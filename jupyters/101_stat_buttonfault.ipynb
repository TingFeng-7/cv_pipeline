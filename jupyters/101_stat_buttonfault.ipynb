{
 "cells": [
  {
   "cell_type": "code",
   "execution_count": 1,
   "metadata": {},
   "outputs": [],
   "source": [
    "import json\n",
    "import os\n",
    "from os.path import join as pathj\n",
    "root_dir = r'D:\\sa_data\\f36_exps\\20221124_aware_hardnms_conf10_iou50\\Element_grabbing\\grabbing_evaluation\\labelme\\grabbing_evaluation_statistics\\statistic_0.5_0.5_0.5_0\\detect'\n",
    "miss = 'button_miss' #有label\n",
    "fault = 'button_fault'\n",
    "miss_dir = os.path.join(root_dir,miss)\n",
    "fault_dir = os.path.join(root_dir,fault)\n",
    "# 读取json\n",
    "def read_json(abs_txt_name):\n",
    "    with open(abs_txt_name, 'r', encoding='utf-8') as f: #读文件名\n",
    "        ret_dic = json.load(f)\n",
    "        return ret_dic\n",
    "        \n",
    "def save_json(new_name,json_ins):\n",
    "    with open(new_name, 'w',encoding='utf-8') as f:\n",
    "        json.dump(json_ins ,f ,indent=2,ensure_ascii=False)#zw\n",
    "        print('{} saved'.format(new_name)) "
   ]
  },
  {
   "cell_type": "markdown",
   "metadata": {},
   "source": [
    "# 1.漏报和误报分析"
   ]
  },
  {
   "cell_type": "code",
   "execution_count": 5,
   "metadata": {},
   "outputs": [],
   "source": [
    "fault_dir = r'C:\\Users\\tingfeng-wu\\Desktop\\02_github\\py_script\\notebook\\linebox_fault'\n",
    "fault_list =[]\n",
    "\n",
    "for name in os.listdir(fault_dir):\n",
    "    instance = read_json(pathj(fault_dir, name))\n",
    "    linebox_miss = instance['linebox_fault']\n",
    "    if(len(linebox_miss) == 0): \n",
    "        continue\n",
    "    for e in linebox_miss:\n",
    "        fault_list.append(e['box'])"
   ]
  },
  {
   "cell_type": "code",
   "execution_count": 8,
   "metadata": {},
   "outputs": [
    {
     "name": "stdout",
     "output_type": "stream",
     "text": [
      "0.656773751000343\n",
      "43735\n",
      "zero:1142,percent:0.025447333823562183\n"
     ]
    }
   ],
   "source": [
    "thin_num1 = 0\n",
    "zero_count =0\n",
    "for e in fault_list: #误报\n",
    "    w = abs(e[2] -e[0])\n",
    "    h = abs(e[3] -e[1])\n",
    "    try:\n",
    "        ratio = max(w/h, h/w)\n",
    "        min_p = min(w,h)\n",
    "    except:\n",
    "        # print(f'w:{w} h:{h}')\n",
    "        # print(f'bbox:{e}')\n",
    "        zero_count+=1\n",
    "        continue\n",
    "    if min_p < 8 :\n",
    "    # if ratio>10 and ratio <20:\n",
    "        thin_num1 +=1\n",
    "print(thin_num1/(len(fault_list)-zero_count))\n",
    "\n",
    "print(f'{len(fault_list)-zero_count}')\n",
    "print(f\"zero:{zero_count},percent:{zero_count/len(fault_list)}\")"
   ]
  },
  {
   "cell_type": "code",
   "execution_count": 2,
   "metadata": {},
   "outputs": [],
   "source": [
    "miss_list =[]\n",
    "for name in os.listdir(miss_dir):#漏报\n",
    "    instance = read_json(pathj(miss_dir, name))\n",
    "    linebox_miss = instance['linebox']\n",
    "    if(len(linebox_miss) == 0): \n",
    "        continue\n",
    "    for e in linebox_miss:\n",
    "        miss_list.append(e['location'])\n"
   ]
  },
  {
   "cell_type": "code",
   "execution_count": 9,
   "metadata": {},
   "outputs": [
    {
     "name": "stdout",
     "output_type": "stream",
     "text": [
      "0.922692036645525\n"
     ]
    }
   ],
   "source": [
    "thin_num = 0\n",
    "for e in miss_list:\n",
    "    w = abs(e[2] -e[0])\n",
    "    h = abs(e[3] -e[1])\n",
    "    min_p = min(w,h)\n",
    "    ratio = max(w/h, h/w)\n",
    "    # if ratio <10:\n",
    "    if min_p < 8:\n",
    "        thin_num+=1\n",
    "print(thin_num/len(miss_list))\n"
   ]
  },
  {
   "cell_type": "code",
   "execution_count": 24,
   "metadata": {},
   "outputs": [
    {
     "name": "stdout",
     "output_type": "stream",
     "text": [
      "漏报数目：14190\n",
      "ratio<1 | ratio<10 | ratio<20 | ratio<50 | ratio>50\n",
      "0\\4333\\2075\\3690\\4092\n",
      "0.0\\0.30535588442565187\\0.14622973925299507\\0.26004228329809725\\0.28837209302325584\n"
     ]
    }
   ],
   "source": [
    "print(f'漏报数目：{len(miss_list)}')\n",
    "miss_len = len(miss_list)\n",
    "count_smaller_1 = 0\n",
    "count_smaller_10 = 0\n",
    "count_smaller_20 = 0\n",
    "count_smaller_50 = 0\n",
    "count_greater_50 = 0\n",
    "for a in miss_list:\n",
    "    w = abs(a[2] -a[0])\n",
    "    h = abs(a[3] -a[1])\n",
    "    ratio = max(w/h, h/w)\n",
    "    if(ratio<1):\n",
    "        count_smaller_1+=1\n",
    "    elif(ratio<10):\n",
    "        count_smaller_10+=1\n",
    "    elif(ratio<20):\n",
    "        count_smaller_20+=1\n",
    "    elif(ratio<50):\n",
    "        count_smaller_50+=1\n",
    "    else:\n",
    "        count_greater_50+=1\n",
    "print(f'ratio<1 | ratio<10 | ratio<20 | ratio<50 | ratio>50')\n",
    "print(f'{count_smaller_1}\\{count_smaller_10}\\{count_smaller_20}\\{count_smaller_50}\\{count_greater_50}')\n",
    "print(f'{count_smaller_1/miss_len}\\{count_smaller_10/miss_len}\\{count_smaller_20/miss_len}\\{count_smaller_50/miss_len}\\{count_greater_50/miss_len}')"
   ]
  },
  {
   "attachments": {},
   "cell_type": "markdown",
   "metadata": {},
   "source": [
    "## 2.labelme 2 sa_subcate 统计labelme的所有类别"
   ]
  },
  {
   "cell_type": "code",
   "execution_count": 21,
   "metadata": {},
   "outputs": [],
   "source": [
    "# 'D:\\sa_data\\sa_coco_1\\labelme\\labelme_json'\n",
    "dir = r'D:\\sa_data\\0011_v1.6_filtered_linebox_yolox\\labelme'\n",
    "names =[x for x in  os.listdir(dir) if x.endswith('json')]\n",
    "cls = set()\n",
    "for name in names:\n",
    "    ins = read_json(pathj(dir, name))\n",
    "    for one in ins['shapes']:\n",
    "        if len(one['label']) > 15:\n",
    "            continue\n",
    "        else:\n",
    "            cls.add(one['label'])"
   ]
  },
  {
   "cell_type": "code",
   "execution_count": 20,
   "metadata": {},
   "outputs": [],
   "source": [
    "\n",
    "with open('1.6.1.txt', mode='w') as f:\n",
    "    for i in cls:\n",
    "        f.write(i+'\\n')"
   ]
  },
  {
   "cell_type": "code",
   "execution_count": 3,
   "metadata": {},
   "outputs": [
    {
     "name": "stdout",
     "output_type": "stream",
     "text": [
      "['h_segline', 'v_segline', 'tab', 'icon_text', 'linebox', 'track', 'mohu', 'inputbox', 'scrollbar_slider']\n"
     ]
    }
   ],
   "source": [
    "cls_name = list(cls)\n",
    "cls_3 =set(['icon','text','image'])\n",
    "cls_name_need = list(cls - cls_3)\n",
    "print(cls_name_need)"
   ]
  },
  {
   "cell_type": "markdown",
   "metadata": {},
   "source": [
    "## 3.各个细类别的recall"
   ]
  },
  {
   "cell_type": "code",
   "execution_count": 22,
   "metadata": {},
   "outputs": [],
   "source": [
    "dir = 'D:\\sa_data\\sa_coco_1\\labelme\\comps_linebox_subcate'\n",
    "names = os.listdir(dir)\n",
    "cls_name_need = ['inputbox', 'v_segline', 'tab', 'track', \n",
    "    'linebox', 'h_segline', 'scrollbar_slider']\n",
    "\n",
    "gold_dict ={} #每个类别gt的数量\n",
    "for name in cls_name_need:\n",
    "    gold_dict[name] = 0\n",
    "# cls = set()\n",
    "for name in names:\n",
    "    ins = read_json(pathj(dir, name))\n",
    "    for name in cls_name_need:\n",
    "        gold_dict[name] += len(ins[name])\n",
    "        # cls.add(one['label'])"
   ]
  },
  {
   "cell_type": "code",
   "execution_count": 15,
   "metadata": {},
   "outputs": [],
   "source": [
    "predicts = r'D:\\sa_data\\f36_exps\\20221124_aware_hardnms_conf10_iou50\\Element_grabbing\\grabbing_evaluation\\labelme\\grabbing_predict'\n",
    "need_name  = ['linebox']\n",
    "pred_bboxes =[]\n",
    "for pred in os.listdir(predicts):\n",
    "    pred_ins = read_json(pathj(predicts, pred))\n",
    "    for name in need_name:\n",
    "        try:\n",
    "            if(len(pred_ins[name])==0):\n",
    "                continue\n",
    "            else:\n",
    "                for box_dict in pred_ins[name]:\n",
    "                    pred_bboxes.append(box_dict[\"location\"])\n",
    "        except:\n",
    "            print('KeyError')\n",
    "        \n",
    "print(json.dumps(gold_dict ,indent=4, sort_keys=True))\n",
    "gold_dict.items()\n",
    "# print(sum(gold_dict.items()))\n",
    "print(len(pred_bboxes))"
   ]
  },
  {
   "cell_type": "code",
   "execution_count": 23,
   "metadata": {},
   "outputs": [],
   "source": [
    "def iou(a, b):\n",
    "    # 计算两个检测框之间的iou\n",
    "    w_a = a[2] - a[0]\n",
    "    h_a = a[3] - a[1]\n",
    "    w_b = b[2] - b[0]\n",
    "    h_b = b[3] - b[1]\n",
    "\n",
    "    area_a = w_a * h_a\n",
    "    area_b = w_b * h_b\n",
    "\n",
    "    w = min(b[2], a[2]) - max(b[0], a[0])\n",
    "    h = min(b[3], a[3]) - max(b[1], a[1])\n",
    "\n",
    "    if w <= 0 or h <= 0:\n",
    "        return 0\n",
    "\n",
    "    area_c = w * h\n",
    "\n",
    "    return area_c / (area_a + area_b - area_c)\n",
    "\n",
    "import numpy as np\n",
    "def iou_np(boxes0: np.ndarray, boxes1: np.ndarray):\n",
    "    \"\"\" 计算多个边界框和多个边界框的交并比\n",
    "\n",
    "    Parameters\n",
    "    ----------\n",
    "    boxes0: `~np.ndarray` of shape `(A, 4)`\n",
    "        边界框\n",
    "\n",
    "    boxes1: `~np.ndarray` of shape `(B, 4)`\n",
    "        边界框\n",
    "\n",
    "    Returns\n",
    "    -------\n",
    "    iou: `~np.ndarray` of shape `(A, B)`\n",
    "        交并比\n",
    "    \"\"\"\n",
    "    A = boxes0.shape[0]\n",
    "    B = boxes1.shape[0]\n",
    "\n",
    "    xy_max = np.minimum(boxes0[:, np.newaxis, 2:].repeat(B, axis=1),\n",
    "                        np.broadcast_to(boxes1[:, 2:], (A, B, 2)))\n",
    "    xy_min = np.maximum(boxes0[:, np.newaxis, :2].repeat(B, axis=1),\n",
    "                        np.broadcast_to(boxes1[:, :2], (A, B, 2)))\n",
    "\n",
    "    # 计算交集面积\n",
    "    inter = np.clip(xy_max-xy_min, a_min=0, a_max=np.inf)\n",
    "    inter = inter[:, :, 0]*inter[:, :, 1]\n",
    "\n",
    "    # 计算每个矩阵的面积\n",
    "    area_0 = ((boxes0[:, 2]-boxes0[:, 0])*(\n",
    "        boxes0[:, 3] - boxes0[:, 1]))[:, np.newaxis].repeat(B, axis=1)\n",
    "    area_1 = ((boxes1[:, 2] - boxes1[:, 0])*(\n",
    "        boxes1[:, 3] - boxes1[:, 1]))[np.newaxis, :].repeat(A, axis=0)\n",
    "\n",
    "    return inter/(area_0+area_1-inter)\n",
    "\n",
    "def get_iou_thresh(a):\n",
    "    # 文本采用动态iou，最大可以到MAX_IOU，对于小目标最小iou可以到0.1。\n",
    "    w_a = a[2] - a[0]\n",
    "    h_a = a[3] - a[1]\n",
    "    area = (w_a + 1) * (h_a + 1)\n",
    "    iou_thresh = min((area+50)/500, 0.5)\n",
    "    return iou_thresh"
   ]
  },
  {
   "cell_type": "code",
   "execution_count": 24,
   "metadata": {},
   "outputs": [],
   "source": [
    "# start\n",
    "dir = 'D:\\sa_data\\sa_coco_1\\labelme\\comps_linebox_subcate'\n",
    "predicts = r'D:\\sa_data\\f36_exps\\20221124_aware_hardnms_conf10_iou50\\Element_grabbing\\grabbing_evaluation\\labelme\\grabbing_predict'"
   ]
  },
  {
   "cell_type": "code",
   "execution_count": 4,
   "metadata": {},
   "outputs": [
    {
     "name": "stderr",
     "output_type": "stream",
     "text": [
      "<ipython-input-4-1b9810f1eee0>:27: DeprecationWarning: `np.int` is a deprecated alias for the builtin `int`. To silence this warning, use `int` by itself. Doing this will not modify any behavior and is safe. When replacing `np.int`, you may wish to use e.g. `np.int64` or `np.int32` to specify the precision. If you wish to review your current use, check the release note link for additional information.\n",
      "Deprecated in NumPy 1.20; for more details and guidance: https://numpy.org/devdocs/release/1.20.0-notes.html#deprecations\n",
      "  predcit_status = np.zeros(len(dt_per_img), dtype=np.int)\n"
     ]
    }
   ],
   "source": [
    "cls_name_need = ['inputbox', 'v_segline', 'tab', 'track', \n",
    "    'linebox', 'h_segline', 'scrollbar_slider']\n",
    "tps_dict = {}\n",
    "gold_dict ={} #每个类别gt的数量\n",
    "pred_dict ={'linebox_predict':0}\n",
    "for name in cls_name_need:\n",
    "    gold_dict[name] = 0\n",
    "for name in cls_name_need:\n",
    "    tps_dict[name+'_tp'] = 0\n",
    "\n",
    "for name in os.listdir(dir): #每个文件进行对比\n",
    "    pred_ins = read_json(pathj(predicts, name))\n",
    "    gold_ins = read_json(pathj(dir, name))\n",
    "    dt_per_img = []\n",
    "    gt_per_img = []\n",
    "    dt = pred_ins['linebox']\n",
    "    pred_dict['linebox_predict'] += len(dt)\n",
    "    for e in dt:\n",
    "        dt_per_img.append({'box':e['location'], 'label': 'linebox'})\n",
    "    for name in cls_name_need:\n",
    "        gt = gold_ins[name]\n",
    "        # gold_dict[name] += len(ins[name])\n",
    "        for g in gt:\n",
    "            gt_per_img.append({'box':g['location'], 'label':name})\n",
    "\n",
    "    #一张图的 dt和gt都有了\n",
    "    predcit_status = np.zeros(len(dt_per_img), dtype=np.int)\n",
    "    for gt in gt_per_img:\n",
    "        dyn_iou = get_iou_thresh(gt['box'])\n",
    "        iou_thresh = min(0.5, dyn_iou)\n",
    "        count = -1\n",
    "        for dt in dt_per_img:\n",
    "            count+=1\n",
    "            if predcit_status[count] == 0:\n",
    "                cur_iou = iou(gt['box'], dt['box'])\n",
    "                cur_gt_label = gt['label']\n",
    "                if cur_iou > iou_thresh:\n",
    "                    tps_dict[cur_gt_label+'_tp']+=1\n",
    "                    predcit_status[count] = 1\n",
    "                    break\n",
    "                else:\n",
    "                    continue\n",
    "            else: \n",
    "                continue"
   ]
  },
  {
   "cell_type": "code",
   "execution_count": 6,
   "metadata": {},
   "outputs": [
    {
     "name": "stdout",
     "output_type": "stream",
     "text": [
      "{\n",
      "    \"h_segline_tp\": 3775,\n",
      "    \"inputbox_tp\": 14024,\n",
      "    \"linebox_tp\": 7339,\n",
      "    \"scrollbar_slider_tp\": 6280,\n",
      "    \"tab_tp\": 16606,\n",
      "    \"track_tp\": 3324,\n",
      "    \"v_segline_tp\": 19269\n",
      "}\n",
      "{\n",
      "    \"h_segline\": 0,\n",
      "    \"inputbox\": 0,\n",
      "    \"linebox\": 0,\n",
      "    \"scrollbar_slider\": 0,\n",
      "    \"tab\": 0,\n",
      "    \"track\": 0,\n",
      "    \"v_segline\": 0\n",
      "}\n",
      "{\n",
      "    \"linebox_predict\": 115494\n",
      "}\n"
     ]
    }
   ],
   "source": [
    "print(json.dumps(tps_dict, indent=4,sort_keys=True))\n",
    "print(json.dumps(gold_dict ,indent=4, sort_keys=True))\n",
    "print(json.dumps(pred_dict ,indent=4, sort_keys=True))"
   ]
  }
 ],
 "metadata": {
  "kernelspec": {
   "display_name": "base",
   "language": "python",
   "name": "python3"
  },
  "language_info": {
   "codemirror_mode": {
    "name": "ipython",
    "version": 3
   },
   "file_extension": ".py",
   "mimetype": "text/x-python",
   "name": "python",
   "nbconvert_exporter": "python",
   "pygments_lexer": "ipython3",
   "version": "3.8.8 (default, Feb 24 2021, 15:54:32) [MSC v.1928 64 bit (AMD64)]"
  },
  "orig_nbformat": 4,
  "vscode": {
   "interpreter": {
    "hash": "49c1f2f7c05fb5f3791eaf735a36181310a6153129bd6fb81f4c031978af08f9"
   }
  }
 },
 "nbformat": 4,
 "nbformat_minor": 2
}
