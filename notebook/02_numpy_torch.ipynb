{
 "cells": [
  {
   "cell_type": "code",
   "execution_count": 1,
   "metadata": {},
   "outputs": [],
   "source": [
    "import numpy as np\n",
    "def nms(boxes, scores, nms_thr, method):\n",
    "    \"\"\"Single class NMS implemented in Numpy.\"\"\"\n",
    "    x1 = boxes[:, 0]\n",
    "    y1 = boxes[:, 1]\n",
    "    x2 = boxes[:, 2]\n",
    "    y2 = boxes[:, 3]\n",
    "\n",
    "    areas = (x2 - x1 + 1) * (y2 - y1 + 1)\n",
    "    order = scores.argsort()[::-1]\n",
    "    print(order)\n",
    "    keep = []\n",
    "    while order.size > 0:\n",
    "        print(f'order size:{order.size}')\n",
    "        i = order[0]\n",
    "        keep.append(i)\n",
    "        # 计算当前概率最大矩形框与 其他矩形框的相交框的坐标\n",
    "        xx1 = np.maximum(x1[i], x1[order[1:]])\n",
    "        yy1 = np.maximum(y1[i], y1[order[1:]])\n",
    "        xx2 = np.minimum(x2[i], x2[order[1:]])\n",
    "        yy2 = np.minimum(y2[i], y2[order[1:]])\n",
    "\n",
    "        w = np.maximum(0.0, xx2 - xx1 + 1)\n",
    "        h = np.maximum(0.0, yy2 - yy1 + 1)\n",
    "        inter = w * h\n",
    "        #数组，其他矩形框的iou与当前top框\n",
    "        ovr = inter / (areas[i] + areas[order[1:]] - inter)\n",
    "\n",
    "        #这一部分 hard 过滤了\n",
    "        #np.where ,大于的抽离箱子\n",
    "        print(f\"inter : {inter}\")\n",
    "        print(f\"ovr   : {ovr}\")\n",
    "        invalid = np.where(ovr > nms_thr)[0]\n",
    "\n",
    "\n",
    "        if method == 2:\n",
    "            sigma = 0.5\n",
    "            weight = np.exp(-(ovr**2) / sigma)\n",
    "            #重新打分\n",
    "            scores[invalid] = [ x*weight for x in scores[invalid] ]\n",
    "            print('method 2')\n",
    "        else:\n",
    "            inds = np.where(ovr <= nms_thr)[0]\n",
    "            print(f'invalid inds:{invalid+1}')\n",
    "            print(f'valid inds:{inds+1}')\n",
    "            #order 索引\n",
    "            order = order[inds + 1]\n",
    "\n",
    "    return keep"
   ]
  },
  {
   "cell_type": "code",
   "execution_count": 3,
   "metadata": {},
   "outputs": [],
   "source": [
    "import numpy as np\n",
    "a = np.zeros(10)\n",
    "id = [1,2,4] #list\n",
    "c = np.array([100,100,100])\n",
    "a[id] = c\n"
   ]
  },
  {
   "cell_type": "code",
   "execution_count": 39,
   "metadata": {},
   "outputs": [
    {
     "name": "stdout",
     "output_type": "stream",
     "text": [
      "-1\n",
      "-1\n",
      "1\n"
     ]
    }
   ],
   "source": [
    "import os\n",
    "LOCAL_RANK = int(os.getenv('LOCAL_RANK', -1))  # https://pytorch.org/docs/stable/elastic/run.html\n",
    "RANK = int(os.getenv('RANK', -1))\n",
    "WORLD_SIZE = int(os.getenv('WORLD_SIZE', 1))\n",
    "print(LOCAL_RANK)\n",
    "print(RANK)\n",
    "print(WORLD_SIZE)"
   ]
  },
  {
   "cell_type": "markdown",
   "metadata": {},
   "source": [
    "# 2 IOu讨论及尝试 pytorch"
   ]
  },
  {
   "cell_type": "code",
   "execution_count": 4,
   "metadata": {},
   "outputs": [
    {
     "name": "stdout",
     "output_type": "stream",
     "text": [
      "gaus_w : [0.83527021 0.72614904 0.60653066 0.48675226 0.3753111  0.2780373\n",
      " 0.1978987 ]\n",
      "liner_w : [0.7 0.6 0.5 0.4 0.3 0.2 0.1]\n"
     ]
    }
   ],
   "source": [
    "ious  = np.arange(0.3,0.9,0.1)\n",
    "\n",
    "sigma = 0.5\n",
    "gaus_w = np.exp(-(ious**2) / sigma)\n",
    "gd = {}\n",
    "for k,v in zip(ious,gaus_w):\n",
    "    gd[k] = v\n",
    "liner_w = 1-ious\n",
    "print(f'gaus_w : {gaus_w}')\n",
    "print(f\"liner_w : {liner_w}\")\n",
    "# 接触越少惩罚越小 当被包含时iou较小"
   ]
  },
  {
   "cell_type": "code",
   "execution_count": 24,
   "metadata": {},
   "outputs": [
    {
     "name": "stdout",
     "output_type": "stream",
     "text": [
      "tensor(4.2000, dtype=torch.float64)\n",
      "torch.Size([173400])\n",
      "torch.Size([100])\n",
      "tensor([173400, 173400, 173400, 173400, 173400, 173400, 173400, 173400, 173400,\n",
      "        173400, 173400, 173400, 173400, 173400, 173400, 173400, 173400, 173400,\n",
      "        173400, 173400, 173400, 173400, 173400, 173400, 173400, 173400, 173400,\n",
      "        173400, 173400, 173400, 173400, 173400, 173400, 173400, 173400, 173400,\n",
      "        173400, 173400, 173400, 173400, 173400, 173400, 173400, 173400, 173400,\n",
      "        173400, 173400, 173400, 173400, 173400, 173400, 173400, 173400, 173400,\n",
      "        173400, 173400, 173400, 173400, 173400, 173400, 173400, 173400, 173400,\n",
      "        173400, 173400, 173400, 173400, 173400, 173400, 173400, 173400, 173400,\n",
      "        173400, 173400, 173400, 173400, 173400, 173400, 173400, 173400, 173400,\n",
      "        173400, 173400, 173400, 173400, 173400, 173400, 173400, 173400, 173400,\n",
      "        173400, 173400, 173400, 173400, 173400, 173400, 173400, 173400, 173400,\n",
      "        173400, 173400, 173400, 173400, 173400, 173400, 173400, 173400, 173400,\n",
      "        173400, 173400, 173400, 173400, 173400, 173400, 173400, 173400, 173400,\n",
      "        173400, 173400, 173400, 173400, 173400, 173400, 173400, 173400, 173400,\n",
      "        173400, 173400, 173400, 173400, 173400, 173400, 173400, 173400, 173400,\n",
      "        173400, 173400, 173400, 173400, 173400, 173400, 173400, 173400, 173400,\n",
      "        173400, 173400, 173400, 173400, 173400, 173400, 173400, 173400, 173400,\n",
      "        173400, 173400, 173400, 173400, 173400, 173400, 173400, 173400, 173400,\n",
      "        173400, 173400, 173400, 173400, 173400, 173400, 173400, 173400, 173400,\n",
      "        173400, 173400, 173400, 173400, 173400, 173400, 173400, 173400, 173400,\n",
      "        173400, 173400, 173400, 173400, 173400, 173400, 173400, 173400, 173400,\n",
      "        173400, 173400, 173400, 173400, 173400, 173400, 173400, 173400, 173400,\n",
      "        173400, 173400, 173400, 173400, 173400, 173400, 173400, 173400, 173400,\n",
      "        173400, 173400, 173400, 173400, 173400, 173400, 173400, 173400, 173400,\n",
      "        173400, 173400, 173400, 173400, 173400, 173400, 173400, 173400, 173400,\n",
      "        173400, 173400, 173400, 173400, 173400, 173400, 173400, 173400, 173400,\n",
      "        173400, 173400, 173400, 173400, 173400, 173400, 173400, 173400, 173400,\n",
      "        173400, 173400, 173400, 173400, 173400, 173400, 173400, 173400, 173400,\n",
      "        173400, 173400, 173400, 173400, 173400, 173400, 173400, 173400, 173400,\n",
      "        173400, 173400, 173400, 173400, 173400, 173400, 173400, 173400, 173400,\n",
      "        173400, 173400, 173400, 173400, 173400, 173400, 173400, 173400, 173400,\n",
      "        173400, 173400, 173400, 173400, 173400, 173400, 173400, 173400, 173400,\n",
      "        173400, 173400, 173400, 173400, 173400, 173400, 173400, 173400, 173400,\n",
      "        173400, 173400, 173400, 173400, 173400, 173400, 173400, 173400, 173400,\n",
      "        173400, 173400, 173400, 173400, 173400, 173400, 173400, 173400, 173400,\n",
      "        173400, 173400, 173400, 173400, 173400, 173400, 173400, 173400, 173400,\n",
      "        173400, 173400, 173400, 173400, 173400, 173400, 173400, 173400, 173400,\n",
      "        173400, 173400, 173400, 173400, 173400, 173400, 173400, 173400, 173400,\n",
      "        173400, 173400, 173400, 173400, 173400, 173400, 173400, 173400, 173400,\n",
      "        173400, 173400, 173400, 173400, 173400, 173400, 173400, 173400, 173400,\n",
      "        173400, 173400, 173400, 173400, 173400, 173400, 173400, 173400, 173400,\n",
      "        173400, 173400, 173400, 173400, 173400, 173400, 173400, 173400, 173400,\n",
      "        173400, 173400, 173400, 173400, 173400, 173400, 173400, 173400, 173400,\n",
      "        173400, 173400, 173400, 173400, 173400, 173400, 173400, 173400, 173400,\n",
      "        173400, 173400, 173400, 173400, 173400, 173400, 173400, 173400, 173400,\n",
      "        173400, 173400, 173400, 173400, 173400, 173400, 173400, 173400, 173400,\n",
      "        173400, 173400, 173400, 173400, 173400, 173400, 173400, 173400, 173400,\n",
      "        173400, 173400, 173400, 173400, 173400, 173400, 173400, 173400, 173400,\n",
      "        173400, 173400, 173400, 173400, 173400, 173400, 173400, 173400, 173400,\n",
      "        173400, 173400, 173400, 173400, 173400, 173400, 173400, 173400, 173400,\n",
      "        173400, 173400, 173400, 173400, 173400, 173400, 173400, 173400, 173400,\n",
      "        173400, 173400, 173400, 173400, 173400, 173400, 173400, 173400, 173400,\n",
      "        173400, 173400, 173400, 173400, 173400, 173400, 173400, 173400, 173400,\n",
      "        173400, 173400, 173400, 173400, 173400, 173400, 173400, 173400, 173400,\n",
      "        173400, 173400, 173400, 173400, 173400, 173400, 173400, 173400, 173400,\n",
      "        173400, 173400, 173400, 173400, 173400, 173400, 173400, 173400, 173400,\n",
      "        173400, 173400, 173400, 173400, 173400, 173400, 173400, 173400, 173400,\n",
      "        173400, 173400, 173400, 173400, 173400, 173400, 173400, 173400, 173400,\n",
      "        173400, 173400, 173400, 173400, 173400, 173400, 173400, 173400, 173400,\n",
      "        173400, 173400, 173400, 173400, 173400, 173400, 173400, 173400, 173400,\n",
      "        173400, 173400, 173400, 173400, 173400, 173400, 173400, 173400, 173400,\n",
      "        173400, 173400, 173400, 173400, 173400, 173400, 173400, 173400, 173400,\n",
      "        173400, 173400, 173400, 173400, 173400, 173400, 173400, 173400, 173400,\n",
      "        173400, 173400, 173400, 173400, 173400, 173400, 173400, 173400, 173400,\n",
      "        173400, 173400, 173400, 173400, 173400, 173400, 173400, 173400, 173400,\n",
      "        173400, 173400, 173400, 173400, 173400, 173400, 173400, 173400, 173400,\n",
      "        173400, 173400, 173400, 173400, 173400, 173400, 173400, 173400, 173400,\n",
      "        173400, 173400, 173400, 173400, 173400, 173400, 173400, 173400, 173400,\n",
      "        173400, 173400, 173400, 173400, 173400, 173400, 173400, 173400, 173400,\n",
      "        173400, 173400, 173400, 173400, 173400, 173400, 173400, 173400, 173400,\n",
      "        173400, 173400, 173400, 173400, 173400, 173400, 173400, 173400, 173400,\n",
      "        173400, 173400, 173400, 173400, 173400, 173400, 173400, 173400, 173400,\n",
      "        173400, 173400, 173400, 173400, 173400, 173400, 173400, 173400, 173400,\n",
      "        173400, 173400, 173400, 173400, 173400, 173400, 173400, 173400, 173400,\n",
      "        173400, 173400, 173400, 173400, 173400, 173400, 173400, 173400, 173400,\n",
      "        173400, 173400, 173400, 173400, 173400, 173400, 173400, 173400, 173400,\n",
      "        173400, 173400, 173400, 173400, 173400, 173400, 173400, 173400, 173400,\n",
      "        173400, 173400, 173400, 173400, 173400, 173400, 173400, 173400, 173400,\n",
      "        173400, 173400, 173400, 173400, 173400, 173400, 173400, 173400, 173400,\n",
      "        173400, 173400, 173400, 173400, 173400, 173400, 173400, 173400, 173400,\n",
      "        173400, 173400, 173400, 173400, 173400, 173400, 173400, 173400, 173400,\n",
      "        173400, 173400, 173400, 173400, 173400, 173400, 173400, 173400, 173400,\n",
      "        173400, 173400, 173400, 173400, 173400, 173400, 173400, 173400, 173400,\n",
      "        173400, 173400, 173400, 173400, 173400, 173400, 173400, 173400, 173400,\n",
      "        173400, 173400, 173400, 173400, 173400, 173400, 173400, 173400, 173400,\n",
      "        173400, 173400, 173400, 173400, 173400, 173400, 173400, 173400, 173400,\n",
      "        173400, 173400, 173400, 173400, 173400, 173400, 173400, 173400, 173400,\n",
      "        173400, 173400, 173400, 173400, 173400, 173400, 173400, 173400, 173400,\n",
      "        173400, 173400, 173400, 173400, 173400, 173400, 173400, 173400, 173400,\n",
      "        173400, 173400, 173400, 173400, 173400, 173400, 173400, 173400, 173400,\n",
      "        173400, 173400, 173400, 173400, 173400, 173400, 173400, 173400, 173400,\n",
      "        173400, 173400, 173400, 173400, 173400, 173400, 173400, 173400, 173400,\n",
      "        173400, 173400, 173400, 173400, 173400, 173400, 173400, 173400, 173400,\n",
      "        173400, 173400, 173400, 173400, 173400, 173400, 173400, 173400, 173400,\n",
      "        173400, 173400, 173400, 173400, 173400, 173400, 173400, 173400, 173400,\n",
      "        173400, 173400, 173400, 173400, 173400, 173400, 173400, 173400, 173400,\n",
      "        173400, 173400, 173400, 173400, 173400, 173400, 173400, 173400, 173400,\n",
      "        173400, 173400, 173400, 173400, 173400, 173400, 173400, 173400, 173400,\n",
      "        173400, 173400, 173400, 173400, 173400, 173400, 173400, 173400, 173400,\n",
      "        173400, 173400, 173400, 173400, 173400, 173400, 173400, 173400, 173400,\n",
      "        173400, 173400, 173400, 173400, 173400, 173400, 173400, 173400, 173400,\n",
      "        173400, 173400, 173400, 173400, 173400, 173400, 173400, 173400, 173400,\n",
      "        173400, 173400, 173400, 173400, 173400, 173400, 173400, 173400, 173400,\n",
      "        173400, 173400, 173400, 173400, 173400, 173400, 173400, 173400, 173400,\n",
      "        173400, 173400, 173400, 173400, 173400, 173400, 173400, 173400, 173400,\n",
      "        173400, 173400, 173400, 173400, 173400, 173400, 173400, 173400, 173400,\n",
      "        173400, 173400, 173400, 173400, 173400, 173400, 173400, 173400, 173400,\n",
      "        173400, 173400, 173400, 173400, 173400, 173400, 173400, 173400, 173400,\n",
      "        173400, 173400, 173400, 173400, 173400, 173400, 173400, 173400, 173400,\n",
      "        173400, 173400, 173400, 173400, 173400, 173400, 173400, 173400, 173400,\n",
      "        173400, 173400, 173400, 173400, 173400, 173400, 173400, 173400, 173400,\n",
      "        173400], dtype=torch.int32)\n"
     ]
    }
   ],
   "source": [
    "ious_t = torch.from_numpy(ious)\n",
    "a = ious_t.sum()\n",
    "c = torch.randn(100,173400)\n",
    "ones_matrix = torch.ones((1000,173400))\n",
    "print(a)\n",
    "print(c.sum(0).size())\n",
    "print(c.sum(1).size())\n",
    "anchor_matching_gt = ones_matrix.sum(1).int()#每一行 求和\n",
    "print(anchor_matching_gt)"
   ]
  },
  {
   "cell_type": "code",
   "execution_count": 17,
   "metadata": {},
   "outputs": [
    {
     "name": "stdout",
     "output_type": "stream",
     "text": [
      "173400.0\n",
      "34000.0\n"
     ]
    }
   ],
   "source": [
    "print((480*272*85)/64.0)\n",
    "print((160*160*85)/64.0)"
   ]
  },
  {
   "cell_type": "code",
   "execution_count": 3,
   "metadata": {},
   "outputs": [],
   "source": [
    "box1 = [0,100,100,0]\n",
    "box2 = [1,40,50,0]\n",
    "iouv = torch.linspace(0.5, 0.95, 10)  # iou vector for mAP@0.5:0.95\n",
    "niou = iouv.numel()"
   ]
  },
  {
   "cell_type": "code",
   "execution_count": 1,
   "metadata": {},
   "outputs": [
    {
     "name": "stderr",
     "output_type": "stream",
     "text": [
      "2023-01-06 12:57:32.858 | INFO     | __main__:bbox_iou_torch:8 - torch.Size([4, 2])\n",
      "2023-01-06 12:57:32.895 | INFO     | __main__:bbox_iou_torch:27 - inter tensor([2000., 2100.]) / union tensor([10000., 10000.]) = iou tensor([0.2000, 0.2100])\n"
     ]
    }
   ],
   "source": [
    "#torch实现各项 iou函数\n",
    "import torch\n",
    "import math\n",
    "from loguru import logger\n",
    "def bbox_iou_torch(box1:torch.Tensor, box2:torch.Tensor, x1y1x2y2=True, GIoU=False, DIoU=False, CIoU=False, eps=1e-9):\n",
    "    # Returns the IoU of box1 to box2. box1 is 4, box2 is nx4\n",
    "    box2 = box2.T\n",
    "    logger.info(box2.shape)\n",
    "    # Get the coordinates of bounding boxes\n",
    "    if x1y1x2y2:  # x1, y1, x2, y2 = box1\n",
    "        b1_x1, b1_y1, b1_x2, b1_y2 = box1[0], box1[1], box1[2], box1[3]\n",
    "        b2_x1, b2_y1, b2_x2, b2_y2 = box2[0], box2[1], box2[2], box2[3]\n",
    "    else:  # transform from xywh to xyxy\n",
    "        b1_x1, b1_x2 = box1[0] - box1[2] / 2, box1[0] + box1[2] / 2\n",
    "        b1_y1, b1_y2 = box1[1] - box1[3] / 2, box1[1] + box1[3] / 2\n",
    "        b2_x1, b2_x2 = box2[0] - box2[2] / 2, box2[0] + box2[2] / 2\n",
    "        b2_y1, b2_y2 = box2[1] - box2[3] / 2, box2[1] + box2[3] / 2\n",
    " \n",
    "    # Intersection area\n",
    "    inter = (torch.min(b1_x2, b2_x2) - torch.max(b1_x1, b2_x1)).clamp(0) * \\\n",
    "            (torch.min(b1_y2, b2_y2) - torch.max(b1_y1, b2_y1)).clamp(0)\n",
    " \n",
    "    # Union Area\n",
    "    w1, h1 = b1_x2 - b1_x1, b1_y2 - b1_y1 + eps\n",
    "    w2, h2 = b2_x2 - b2_x1, b2_y2 - b2_y1 + eps\n",
    "    union = w1 * h1 + w2 * h2 - inter + eps\n",
    "    logger.info(f\"inter {inter} / union {union} = iou {inter/union}\")\n",
    "    iou = inter / union\n",
    "    if GIoU or DIoU or CIoU:\n",
    "        cw = torch.max(b1_x2, b2_x2) - torch.min(b1_x1, b2_x1)  # convex (smallest enclosing box) width\n",
    "        ch = torch.max(b1_y2, b2_y2) - torch.min(b1_y1, b2_y1)  # convex height\n",
    "        if CIoU or DIoU:  # Distance or Complete IoU https://arxiv.org/abs/1911.08287v1\n",
    "            c2 = cw ** 2 + ch ** 2 + eps  # convex diagonal squared\n",
    "            rho2 = ((b2_x1 + b2_x2 - b1_x1 - b1_x2) ** 2 +\n",
    "                    (b2_y1 + b2_y2 - b1_y1 - b1_y2) ** 2) / 4  # center distance squared\n",
    "            if DIoU:\n",
    "                return iou - rho2 / c2  # DIoU\n",
    "            elif CIoU:  # https://github.com/Zzh-tju/DIoU-SSD-pytorch/blob/master/utils/box/box_utils.py#L47\n",
    "                v = (4 / math.pi ** 2) * torch.pow(torch.atan(w2 / h2) - torch.atan(w1 / h1), 2)\n",
    "                with torch.no_grad():\n",
    "                    alpha = v / ((1 + eps) - iou + v)\n",
    "                return iou - (rho2 / c2 + v * alpha)  # 3 CIoU\n",
    "        else:  # GIoU https://arxiv.org/pdf/1902.09630.pdf\n",
    "            c_area = cw * ch + eps  # convex area\n",
    "            return iou - (c_area - union) / c_area  # 2 GIoU\n",
    "    else:\n",
    "        return iou  #  1 IoU\n",
    "\n",
    "# numpy版本实现iou\n",
    "# torch lb rt\n",
    "import torch\n",
    "box1 = [0,0,100,100]\n",
    "box2 = [[0,0,50,40] ,[20,10,90,40]]\n",
    "box1 = torch.Tensor(box1)\n",
    "box2 = torch.Tensor(box2)\n",
    "iou = bbox_iou_torch(box1 ,box2)"
   ]
  },
  {
   "cell_type": "code",
   "execution_count": 4,
   "metadata": {},
   "outputs": [
    {
     "data": {
      "text/plain": [
       "4"
      ]
     },
     "execution_count": 4,
     "metadata": {},
     "output_type": "execute_result"
    }
   ],
   "source": [
    "box2.shape[1]"
   ]
  },
  {
   "cell_type": "markdown",
   "metadata": {},
   "source": [
    "## pytorch 数学函数"
   ]
  },
  {
   "cell_type": "code",
   "execution_count": 16,
   "metadata": {},
   "outputs": [],
   "source": [
    "import numpy as np\n",
    "pred = torch.tensor([[-0.5816, -0.3873, -1.0215, -1.0145,  0.4053],\n",
    "        [ 0.7265,  1.4164,  1.3443,  1.2035,  np.nan],\n",
    "        [-0.4451,  0.1673,  1.2590, -2.0757,  1.7255],\n",
    "        [ 0.2021,  0.3041,  0.1383,  0.3849, -1.6311]])\n",
    "# 0 按列， 1按行\n",
    "# pred = pred.add(1)\n",
    "pred = torch.where(torch.isnan(pred), torch.full_like(pred, 0), pred)\n",
    "vv,vi = pred.topk(k=3,dim=1,largest=True,sorted=True)\n",
    "dyn_ks = torch.clamp(vv.sum(1).int(), min=1)\n",
    "dyn_ks = dyn_ks.tolist()\n",
    "\n",
    "assert not torch.isnan(pred).any(), 'pred exist nan'"
   ]
  },
  {
   "cell_type": "code",
   "execution_count": 8,
   "metadata": {},
   "outputs": [
    {
     "name": "stdout",
     "output_type": "stream",
     "text": [
      "tensor([[0.0000, 1.0986, 0.6931, 1.3863],\n",
      "        [0.6931, 0.6931, 1.0986, 0.6931]])\n"
     ]
    },
    {
     "name": "stderr",
     "output_type": "stream",
     "text": [
      "<ipython-input-8-704fa63e612d>:5: DeprecationWarning: an integer is required (got type float).  Implicit conversion to integers using __int__ is deprecated, and may be removed in a future version of Python.\n",
      "  a3 = torch.IntTensor(tmp)\n",
      "<ipython-input-8-704fa63e612d>:6: DeprecationWarning: an integer is required (got type float).  Implicit conversion to integers using __int__ is deprecated, and may be removed in a future version of Python.\n",
      "  a4 = torch.LongTensor(tmp)\n"
     ]
    }
   ],
   "source": [
    "tmp = [[1.0,3.0,2,4],[2,2,3,2]]\n",
    "a = torch.FloatTensor(tmp)\n",
    "a1 =torch.HalfTensor(tmp)\n",
    "a2 = torch.DoubleTensor(tmp)\n",
    "a3 = torch.IntTensor(tmp)\n",
    "a4 = torch.LongTensor(tmp)\n",
    "# print(a4.dtype)\n",
    "loss = torch.log(a4+ 1e-8)\n",
    "print(loss)"
   ]
  },
  {
   "cell_type": "code",
   "execution_count": 1,
   "metadata": {},
   "outputs": [],
   "source": [
    "# 官方实现多对多\n",
    "import torch\n",
    "box1 = [[0,0,100,100]]\n",
    "box2 = [[0,0,50,40] ,[20,10,90,40]]\n",
    "box1 = torch.Tensor(box1)\n",
    "box2 = torch.Tensor(box2)\n",
    "# iou = bbox_iou_torch(box1 ,box2)\n",
    "\n",
    "from torchvision.ops import box_iou, complete_box_iou,distance_box_iou,generalized_box_iou\n",
    "iou = box_iou(boxes1=box1, boxes2=box2)\n",
    "ciou = complete_box_iou(box1,box2)\n",
    "diou = distance_box_iou(box1, box2)\n",
    "giou = generalized_box_iou(box1, box2)"
   ]
  },
  {
   "cell_type": "code",
   "execution_count": 47,
   "metadata": {},
   "outputs": [
    {
     "name": "stdout",
     "output_type": "stream",
     "text": [
      "[0 2 4 1 3]\n",
      "order size:5\n",
      "inter : [5312.    0. 8256. 8554.]\n",
      "ovr   : [0.46119118 0.         0.74539545 0.70484509]\n",
      "invalid inds:[3 4]\n",
      "valid inds:[1 2]\n",
      "order size:2\n",
      "inter : [0.]\n",
      "ovr   : [0.]\n",
      "invalid inds:[]\n",
      "valid inds:[1]\n",
      "order size:1\n",
      "inter : []\n",
      "ovr   : []\n",
      "invalid inds:[]\n",
      "valid inds:[]\n",
      "result:[0, 2, 4]\n",
      "@@@@@@@@@@@@@@@@@@@@@@@@@@@@@@@@@@@@@@@@@@@@@@@@@@@@@@@@@@@@@@@@@@@@@@@@@@@@@@@@@@@@@@@@@@@@@@@@@@@@\n",
      "@@@@@@@@@@@@@@@@@@@@@@@@@@@@@@@@@@@@@@@@@@@@@@@@@@@@@@@@@@@@@@@@@@@@@@@@@@@@@@@@@@@@@@@@@@@@@@@@@@@@\n",
      "soft-nms result:[0, 1, 2, 3]\n"
     ]
    }
   ],
   "source": [
    "dets = [[0, 0, 100, 101, 0.9], [5, 6, 90, 110, 0.7], [17, 19, 80, 120, 0.8], [10, 8, 115, 105, 0.5],[114, 8, 115, 105, 0.7]]\n",
    "dets = np.array(dets)\n",
    "result = nms(dets[:,0:4],dets[:,-1], 0.6,method=1)\n",
    "print(f'result:{result}')\n",
    "print('@'*100)\n",
    "# result = nms(dets[:,0:4],dets[:,-1], 0.6, method=2)\n",
    "# print(f'm2 result:{result}')\n",
    "print('@'*100)"
   ]
  },
  {
   "cell_type": "code",
   "execution_count": 43,
   "metadata": {},
   "outputs": [],
   "source": [
    "def soft_nms(dets, sigma=0.5, nms_thr=0.5, method=2,score_thr=0.1):\n",
    "    box_len = len(dets)   # box的个数\n",
    "    for i in range(box_len):\n",
    "        tmpx1, tmpy1, tmpx2, tmpy2, ts = dets[i, 0], dets[i, 1], dets[i, 2], dets[i, 3], dets[i, 4]\n",
    "        max_pos = i\n",
    "        max_scores = ts\n",
    "        # get 最大置信度的box\n",
    "        pos = i+1\n",
    "        while pos < box_len:\n",
    "            if max_scores < dets[pos, 4]:\n",
    "                max_scores = dets[pos, 4]\n",
    "                max_pos = pos\n",
    "            pos += 1\n",
    "        # add max box as a detection\n",
    "        dets[i, :] = dets[max_pos, :]\n",
    "        # swap ith box with position of max box 交换，把 maxbox 替换到首位\n",
    "        dets[max_pos, 0] = tmpx1\n",
    "        dets[max_pos, 1] = tmpy1\n",
    "        dets[max_pos, 2] = tmpx2\n",
    "        dets[max_pos, 3] = tmpy2\n",
    "        dets[max_pos, 4] = ts\n",
    "        # 将置信度最高的 box 赋给临时变量\n",
    "        tmpx1, tmpy1, tmpx2, tmpy2, ts = dets[i, 0], dets[i, 1], dets[i, 2], dets[i, 3], dets[i, 4]\n",
    "        pos = i+1\n",
    "        # NMS iterations, note that box_len changes if detection boxes fall below threshold\n",
    "        while pos < box_len:\n",
    "            x1, y1, x2, y2 = dets[pos, 0], dets[pos, 1], dets[pos, 2], dets[pos, 3]\n",
    "            area = (x2 - x1 + 1)*(y2 - y1 + 1)\n",
    "            iw = (min(tmpx2, x2) - max(tmpx1, x1) + 1)\n",
    "            ih = (min(tmpy2, y2) - max(tmpy1, y1) + 1)\n",
    "            if iw > 0 and ih > 0:\n",
    "                overlaps = iw * ih\n",
    "                ious = overlaps / ((tmpx2 - tmpx1 + 1) * (tmpy2 - tmpy1 + 1) + area - overlaps)\n",
    "                #两种权值方法\n",
    "                if method == 1:    # 1.线性\n",
    "                    if ious > nms_thr:\n",
    "                        weight = 1 - ious\n",
    "                    else:\n",
    "                        weight = 1\n",
    "                elif method == 2:  # 2.gaussian\n",
    "                    weight = np.exp(-(ious**2) / sigma)\n",
    "                else:              # 3.hard NMS\n",
    "                    if ious > nms_thr:\n",
    "                        weight = 0\n",
    "                    else:\n",
    "                        weight = 1\n",
    "\n",
    "                # 赋予该box新的置信度\n",
    "                dets[pos, 4] = weight * dets[pos, 4]\n",
    "\n",
    "                # 如果box得分低于阈值thresh，则通过与最后一个框交换来丢弃该框\n",
    "                if dets[pos, 4] < score_thr:\n",
    "                    dets[pos, 0] = dets[box_len-1, 0]\n",
    "                    dets[pos, 1] = dets[box_len-1, 1]\n",
    "                    dets[pos, 2] = dets[box_len-1, 2]\n",
    "                    dets[pos, 3] = dets[box_len-1, 3]\n",
    "                    dets[pos, 4] = dets[box_len-1, 4]\n",
    "\n",
    "                    box_len = box_len-1\n",
    "                    pos = pos-1\n",
    "            pos += 1\n",
    "\n",
    "    keep = [i for i in range(box_len)]\n",
    "    return keep"
   ]
  },
  {
   "cell_type": "code",
   "execution_count": null,
   "metadata": {},
   "outputs": [],
   "source": []
  },
  {
   "cell_type": "code",
   "execution_count": 49,
   "metadata": {},
   "outputs": [],
   "source": [
    "a=[[2,1,3],[23,23,1]]\n",
    "b=[[1],[2]]\n",
    "for i in range(2):\n",
    "    a[i].append(b[i][0])"
   ]
  },
  {
   "cell_type": "code",
   "execution_count": 3,
   "metadata": {},
   "outputs": [
    {
     "name": "stdout",
     "output_type": "stream",
     "text": [
      "我们的数组是：\n",
      "[[[0. 1. 2.]\n",
      "  [3. 4. 5.]\n",
      "  [6. 7. 8.]]]\n",
      "大于 3 的元素的索引：\n",
      "15\n",
      "使用这些索引来获取满足条件的元素：\n",
      "[4. 5. 6. 7. 8.]\n"
     ]
    }
   ],
   "source": [
    "import numpy as np \n",
    " \n",
    "x = np.arange(9.).reshape(1,3, 3)  \n",
    "print ('我们的数组是：')\n",
    "print (x)\n",
    "print ( '大于 3 的元素的索引：')\n",
    "y = np.where(x >  3) \n",
    "y2 = np.where(x >  3)[0] \n",
    "#返回一个元组\n",
    "y1 = np.concatenate(y)\n",
    "print (y1.size)\n",
    "print ('使用这些索引来获取满足条件的元素：')\n",
    "print (x[y])\n",
    "#三目表达式\n",
    "y = np.arange(9.) \n",
    "x1=np.where(x>3, x, x+3)[0]\n",
    "y=np.where(y>3, y, y*2)"
   ]
  },
  {
   "cell_type": "code",
   "execution_count": 19,
   "metadata": {},
   "outputs": [
    {
     "data": {
      "text/plain": [
       "9"
      ]
     },
     "execution_count": 19,
     "metadata": {},
     "output_type": "execute_result"
    }
   ],
   "source": [
    "ovr = np.arange(9)\n",
    "# weight = np.(ovr)\n",
    "y=np.where(y>6, y, y*ovr)\n",
    "y.size"
   ]
  },
  {
   "cell_type": "code",
   "execution_count": 25,
   "metadata": {},
   "outputs": [
    {
     "data": {
      "text/plain": [
       "array([ 1,  2,  4,  8, 12, 17,  7,  8,  9, 10, 11, 12, 13, 14, 15, 16, 17,\n",
       "       18, 19, 20])"
      ]
     },
     "execution_count": 25,
     "metadata": {},
     "output_type": "execute_result"
    }
   ],
   "source": [
    "a = np.arange(20)\n",
    "b = np.arange(20,40)\n",
    "id = [1,2,3,4,5]\n",
    "weight = np.linspace(1,10,20)\n",
    "a[id] = a[id] * weight[id]\n",
    "a+1\n"
   ]
  },
  {
   "cell_type": "code",
   "execution_count": 4,
   "metadata": {},
   "outputs": [
    {
     "name": "stdout",
     "output_type": "stream",
     "text": [
      "[[ 5  6  7  8]\n",
      " [10 11 12 13]\n",
      " [15 16 17 18]]\n"
     ]
    }
   ],
   "source": [
    "x = np.arange(60).reshape(12,-1)\n",
    "x1 = np.arange(20).reshape(4,-1)\n",
    "np.argsort(x,axis=0)\n",
    "# np.argsort(x,axis=2)\n",
    "np.argsort(x,axis=1)\n",
    "x2 = np.concatenate((x,x1))\n",
    "##\n",
    "a = [1,2,3]\n",
    "an =np.array(a)\n",
    "print(x2[a,:4])"
   ]
  },
  {
   "cell_type": "code",
   "execution_count": 16,
   "metadata": {},
   "outputs": [],
   "source": [
    "x1[:,3] =[1,2,10,10000]\n",
    "x11 = x1[np.argsort(x1[:,3])[::-1]]\n",
    "order = x[1:,...]\n",
    "a=[]\n",
    "keep1 = np.empty((0,5), int)\n",
    "a.append(x1)\n",
    "a.append(x2)\n",
    "# an = np.array(a)\n",
    "#拼凑array\n",
    "keep1 = np.empty((0,5), int)\n",
    "keep1 = np.concatenate((keep1,x1))\n",
    "keep1 = np.concatenate((keep1,x))"
   ]
  },
  {
   "cell_type": "code",
   "execution_count": 18,
   "metadata": {},
   "outputs": [
    {
     "name": "stdout",
     "output_type": "stream",
     "text": [
      "<class 'bool'>\n",
      "1\n"
     ]
    }
   ],
   "source": [
    "class_a = True\n",
    "print(type(class_a))\n",
    "if class_a:\n",
    "    print(1)\n",
    "else:\n",
    "    print(2)"
   ]
  }
 ],
 "metadata": {
  "kernelspec": {
   "display_name": "Python 3.8.8 ('base')",
   "language": "python",
   "name": "python3"
  },
  "language_info": {
   "codemirror_mode": {
    "name": "ipython",
    "version": 3
   },
   "file_extension": ".py",
   "mimetype": "text/x-python",
   "name": "python",
   "nbconvert_exporter": "python",
   "pygments_lexer": "ipython3",
   "version": "3.8.8 (default, Apr 13 2021, 15:08:03) [MSC v.1916 64 bit (AMD64)]"
  },
  "orig_nbformat": 4,
  "vscode": {
   "interpreter": {
    "hash": "ff4f85d6e04298634172ac5d8264e7e9b556b95639fe52ebb9425c4d4cba0c9c"
   }
  }
 },
 "nbformat": 4,
 "nbformat_minor": 2
}
