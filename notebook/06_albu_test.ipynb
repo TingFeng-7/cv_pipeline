{
 "cells": [
  {
   "cell_type": "code",
   "execution_count": 14,
   "metadata": {},
   "outputs": [],
   "source": [
    "import os\n",
    "import os.path as osp\n",
    "import sys\n",
    "import cv2\n",
    "\n",
    "# img_path = 'D:/PythonProject/UWGAN_UIE-master/UNetRestoration/data/water/'\n",
    "# gt_path = 'D:/PythonProject/UWGAN_UIE-master/UNetRestoration/data/gt/'\n",
    "\n",
    "img_path = r'D:\\sa_data\\0006_sa_v1.6_cleanto_0010\\0001_cyclone_1.5\\imgs'\n",
    "gt_path = r'D:\\sa_data\\0011_v1.6_filtered_linebox_yolox\\labelme'\n",
    "save_dir = r'C:\\Users\\tingfeng-wu\\Desktop\\02_github\\py_script\\labelme_640'\n",
    "\n",
    "\n",
    "def read_path(file_pathname, save_dir):\n",
    "    #遍历该目录下的所有图片文件\n",
    "    os.makedirs(save_dir, exist_ok=True)\n",
    "    img_list = dir_names(file_pathname)\n",
    "    for filename in img_list:\n",
    "        #print(filename)\n",
    "        img = cv2.imread(file_pathname+'/'+filename)\n",
    "        new_image = cv2.resize(img, (640, 640), interpolation=cv2.INTER_AREA)\n",
    "        new_image = cv2.pyrDown(img, (1366,768))\n",
    "        #####保存图片的路径\n",
    "        cv2.imwrite(osp.join(save_dir,filename), new_image)\n",
    "\n",
    "def dir_names(file_pathname):\n",
    "    img_list = [x for x in os.listdir(file_pathname)]\n",
    "    return img_list\n",
    "\n",
    "\n",
    "read_path(img_path, save_dir)\n",
    "#print(os.getcwd())\n"
   ]
  }
 ],
 "metadata": {
  "kernelspec": {
   "display_name": "base",
   "language": "python",
   "name": "python3"
  },
  "language_info": {
   "codemirror_mode": {
    "name": "ipython",
    "version": 3
   },
   "file_extension": ".py",
   "mimetype": "text/x-python",
   "name": "python",
   "nbconvert_exporter": "python",
   "pygments_lexer": "ipython3",
   "version": "3.8.8 (default, Apr 13 2021, 15:08:03) [MSC v.1916 64 bit (AMD64)]"
  },
  "orig_nbformat": 4,
  "vscode": {
   "interpreter": {
    "hash": "ff4f85d6e04298634172ac5d8264e7e9b556b95639fe52ebb9425c4d4cba0c9c"
   }
  }
 },
 "nbformat": 4,
 "nbformat_minor": 2
}
