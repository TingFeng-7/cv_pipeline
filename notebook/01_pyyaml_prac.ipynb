{
 "cells": [
  {
   "cell_type": "code",
   "execution_count": null,
   "metadata": {},
   "outputs": [],
   "source": [
    "\n",
    "import yaml\n",
    "from loguru import logger\n",
    "\n",
    "def join(loader, node):\n",
    "    seq = loader.construct_sequence(node)\n",
    "    return ''.join([str(i) for i in seq])\n",
    "\n",
    "## register the tag handler 注册标签的含义\n",
    "yaml.add_constructor('!join', join)\n",
    "\n",
    "with open('config.yaml', \"r\", encoding=\"utf-8\") as file:\n",
    "        # result=file.read()\n",
    "        # logger.info(result)\n",
    "        # config2 = yaml.load(file.read(),Loader=yaml.SafeLoader)\n",
    "        config3 = yaml.load(file,Loader=yaml.FullLoader)\n",
    "print(config3)"
   ]
  },
  {
   "cell_type": "code",
   "execution_count": 1,
   "metadata": {},
   "outputs": [
    {
     "name": "stdout",
     "output_type": "stream",
     "text": [
      "['c:\\\\Users\\\\tingfeng-wu\\\\Desktop\\\\github\\\\0002_sa_api-1.0\\\\component_delivery_test', 'C:\\\\Users\\\\tingfeng-wu\\\\Desktop\\\\github\\\\0003_cv-workspace', 'c:\\\\anaconda3\\\\python38.zip', 'c:\\\\anaconda3\\\\DLLs', 'c:\\\\anaconda3\\\\lib', 'c:\\\\anaconda3', '', 'C:\\\\Users\\\\tingfeng-wu\\\\AppData\\\\Roaming\\\\Python\\\\Python38\\\\site-packages', 'c:\\\\anaconda3\\\\lib\\\\site-packages', 'c:\\\\anaconda3\\\\lib\\\\site-packages\\\\locket-0.2.1-py3.8.egg', 'c:\\\\anaconda3\\\\lib\\\\site-packages\\\\win32', 'c:\\\\anaconda3\\\\lib\\\\site-packages\\\\win32\\\\lib', 'c:\\\\anaconda3\\\\lib\\\\site-packages\\\\Pythonwin', 'c:\\\\anaconda3\\\\lib\\\\site-packages\\\\IPython\\\\extensions', 'C:\\\\Users\\\\tingfeng-wu\\\\.ipython']\n"
     ]
    }
   ],
   "source": [
    "import sys\n",
    "print(sys.path)"
   ]
  },
  {
   "cell_type": "code",
   "execution_count": 2,
   "metadata": {},
   "outputs": [
    {
     "name": "stdout",
     "output_type": "stream",
     "text": [
      "names:\n",
      "  0: plane\n",
      "  1: ships\n",
      "  2: tank\n",
      "  3: ball park\n",
      "  4: tennis court\n",
      "  5: basketball\n",
      "  6: track\n",
      "  7: port\n",
      "  8: bridge\n",
      "  9: car\n",
      "\n"
     ]
    }
   ],
   "source": [
    "import yaml\n",
    "cls_names = ['飞机','舰船','油罐', '棒球场','网球场','篮球场','田径场','港口','桥梁','汽车']\n",
    "class_name_en = ['plane', 'ships','tank', 'ball park', 'tennis court', 'basketball', 'track', 'port', 'bridge', 'car']\n",
    "c = {'names':{}}\n",
    "for k,v in enumerate(class_name_en):\n",
    "    c['names'][k] = v\n",
    "print(yaml.dump(c, allow_unicode=True))\n",
    "with open('b1.yaml', 'w') as file:\n",
    "    file.write(yaml.dump(c, allow_unicode=True))"
   ]
  }
 ],
 "metadata": {
  "kernelspec": {
   "display_name": "Python 3.8.8 ('base')",
   "language": "python",
   "name": "python3"
  },
  "language_info": {
   "codemirror_mode": {
    "name": "ipython",
    "version": 3
   },
   "file_extension": ".py",
   "mimetype": "text/x-python",
   "name": "python",
   "nbconvert_exporter": "python",
   "pygments_lexer": "ipython3",
   "version": "3.8.8"
  },
  "orig_nbformat": 4,
  "vscode": {
   "interpreter": {
    "hash": "ff4f85d6e04298634172ac5d8264e7e9b556b95639fe52ebb9425c4d4cba0c9c"
   }
  }
 },
 "nbformat": 4,
 "nbformat_minor": 2
}
