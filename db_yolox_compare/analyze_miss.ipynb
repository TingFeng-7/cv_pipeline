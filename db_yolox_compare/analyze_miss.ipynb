{
 "cells": [
  {
   "cell_type": "code",
   "execution_count": 26,
   "metadata": {},
   "outputs": [],
   "source": [
    "import json\n",
    "from loguru import logger\n",
    "import os\n",
    "\n",
    "def caculate_wh(xyxy: list):\n",
    "    w = xyxy[2] - xyxy[0]\n",
    "    h = xyxy[3] - xyxy[1]\n",
    "    return w, h\n",
    "def ensure_dir(folder):\n",
    "    if not os.path.exists(folder):\n",
    "        os.makedirs(folder)\n",
    "    return folder\n",
    "\n",
    "def stat_tiny(miss_icon_list, app, label): \n",
    "    tiny_count = 0\n",
    "    all_count = 0\n",
    "    for elem in miss_icon_list:\n",
    "        xyxy = elem['location']\n",
    "        w, h = caculate_wh(xyxy)\n",
    "        wh = [w,h]\n",
    "        if(w<10 and h <10): tiny_count+=1\n",
    "        all_count += 1\n",
    "    logger.info(\"当前 {:20}，miss_{}:{:5}, miss 10x10:{}\".format(app[:20], label, all_count, tiny_count))\n",
    "    return all_count, tiny_count"
   ]
  },
  {
   "cell_type": "code",
   "execution_count": 29,
   "metadata": {},
   "outputs": [
    {
     "name": "stdout",
     "output_type": "stream",
     "text": [
      "c:\\Users\\tingfeng-wu\\Desktop\\workspace\\db_yolox\n"
     ]
    }
   ],
   "source": [
    "print(os.getcwd())"
   ]
  },
  {
   "cell_type": "code",
   "execution_count": 45,
   "metadata": {},
   "outputs": [],
   "source": [
    "\n",
    "\n",
    "import os\n",
    "import json\n",
    "import cv2\n",
    "\n",
    "# 1.dbnet\n",
    "# curdir = r'D:\\sa_copy\\exps\\2022_10_8_htx_dbnet\\Element_grabbing\\grabbing_evaluation'\n",
    "# predic_link = r'evaluation\\f33_chars_solo_09_solo__2022-10-08-04-01-15'\n",
    "# stat_link = r'statistic_evaluation\\statistic_max_iou_0.5\\detect\\button_miss'\n",
    "\n",
    "# #2.yolox\n",
    "predic_link = r'grabbing_predict'\n",
    "curdir = r'D:\\sa_copy\\exps\\2022.9.30_yolox_1080p_sa_f27\\Element_grabbing\\grabbing_evaluation'\n",
    "stat_link = r'grabbing_evaluation_statistics\\statistic_mode_2\\detect\\button_miss'\n",
    "\n"
   ]
  },
  {
   "cell_type": "code",
   "execution_count": 46,
   "metadata": {},
   "outputs": [
    {
     "name": "stdout",
     "output_type": "stream",
     "text": [
      "['0001_cyclone_1.5', '0002_eTax', '0003_excel_07pro', '0004_ppt_07pro', '0005_windows_10', '0006_word_07pro', '0007_wpsExcel_2019', '0008_wpsPpt_2019', '0009_wpsWord_2019', '0010_wps_2019', '0011_xingzhida_00', '0012_feishu_v3.42.8', '0013_DingDing_v4.6.28', '0014_jindie_00', '0015_sap_740', '0016_yongyou_U8', '0017_weixin_person_3.2.1', '0018_WPS_office_Excel_dianwang', '0019_outlook', '0020_chrome', '0021_IE10', '0022_Edge', '0023_360', '0024_Firefox', '0025_Lotus_note', '0026_tonghuashun', '0027_JYS_F_XJM']\n"
     ]
    }
   ],
   "source": [
    "app_names = os.listdir(curdir) \n",
    "app_names = [x for x in app_names if x < \"0028\"]\n",
    "print(app_names)"
   ]
  },
  {
   "cell_type": "code",
   "execution_count": 47,
   "metadata": {},
   "outputs": [
    {
     "name": "stderr",
     "output_type": "stream",
     "text": [
      "2022-10-11 16:47:03.104 | INFO     | __main__:stat_tiny:23 - 当前 0001_cyclone_1.5    ，miss_icon:  290, miss 10x10:163\n",
      "2022-10-11 16:47:03.105 | INFO     | __main__:stat_tiny:23 - 当前 0001_cyclone_1.5    ，miss_text:   29, miss 10x10:0\n",
      "2022-10-11 16:47:03.331 | INFO     | __main__:stat_tiny:23 - 当前 0002_eTax           ，miss_icon:   45, miss 10x10:39\n",
      "2022-10-11 16:47:03.332 | INFO     | __main__:stat_tiny:23 - 当前 0002_eTax           ，miss_text:  419, miss 10x10:85\n",
      "2022-10-11 16:47:03.601 | INFO     | __main__:stat_tiny:23 - 当前 0003_excel_07pro    ，miss_icon:  484, miss 10x10:316\n",
      "2022-10-11 16:47:03.602 | INFO     | __main__:stat_tiny:23 - 当前 0003_excel_07pro    ，miss_text: 1256, miss 10x10:841\n",
      "2022-10-11 16:47:03.846 | INFO     | __main__:stat_tiny:23 - 当前 0004_ppt_07pro      ，miss_icon:  173, miss 10x10:122\n",
      "2022-10-11 16:47:03.846 | INFO     | __main__:stat_tiny:23 - 当前 0004_ppt_07pro      ，miss_text:   47, miss 10x10:9\n",
      "2022-10-11 16:47:04.064 | INFO     | __main__:stat_tiny:23 - 当前 0005_windows_10     ，miss_icon:  162, miss 10x10:102\n",
      "2022-10-11 16:47:04.064 | INFO     | __main__:stat_tiny:23 - 当前 0005_windows_10     ，miss_text:   51, miss 10x10:12\n",
      "2022-10-11 16:47:04.322 | INFO     | __main__:stat_tiny:23 - 当前 0006_word_07pro     ，miss_icon:  230, miss 10x10:157\n",
      "2022-10-11 16:47:04.323 | INFO     | __main__:stat_tiny:23 - 当前 0006_word_07pro     ，miss_text:  626, miss 10x10:344\n"
     ]
    },
    {
     "ename": "FileNotFoundError",
     "evalue": "[WinError 3] 系统找不到指定的路径。: 'D:\\\\sa_copy\\\\exps\\\\2022.9.30_yolox_1080p_sa_f27\\\\Element_grabbing\\\\grabbing_evaluation\\\\0007_wpsExcel_2019\\\\grabbing_evaluation_statistics\\\\statistic_mode_2\\\\detect\\\\button_miss'",
     "output_type": "error",
     "traceback": [
      "\u001b[1;31m---------------------------------------------------------------------------\u001b[0m",
      "\u001b[1;31mFileNotFoundError\u001b[0m                         Traceback (most recent call last)",
      "\u001b[1;32m<ipython-input-47-2cd5c3495a47>\u001b[0m in \u001b[0;36m<module>\u001b[1;34m\u001b[0m\n\u001b[0;32m      8\u001b[0m     \u001b[0mmiss_text_list\u001b[0m \u001b[1;33m=\u001b[0m \u001b[1;33m[\u001b[0m\u001b[1;33m]\u001b[0m\u001b[1;33m\u001b[0m\u001b[1;33m\u001b[0m\u001b[0m\n\u001b[0;32m      9\u001b[0m     \u001b[0mjsondir\u001b[0m \u001b[1;33m=\u001b[0m \u001b[0mos\u001b[0m\u001b[1;33m.\u001b[0m\u001b[0mpath\u001b[0m\u001b[1;33m.\u001b[0m\u001b[0mjoin\u001b[0m\u001b[1;33m(\u001b[0m\u001b[0mcurdir\u001b[0m\u001b[1;33m,\u001b[0m \u001b[0mapp\u001b[0m\u001b[1;33m,\u001b[0m \u001b[0mstat_link\u001b[0m\u001b[1;33m)\u001b[0m\u001b[1;33m\u001b[0m\u001b[1;33m\u001b[0m\u001b[0m\n\u001b[1;32m---> 10\u001b[1;33m     \u001b[0mpaths\u001b[0m \u001b[1;33m=\u001b[0m \u001b[0mos\u001b[0m\u001b[1;33m.\u001b[0m\u001b[0mlistdir\u001b[0m\u001b[1;33m(\u001b[0m\u001b[0mjsondir\u001b[0m\u001b[1;33m)\u001b[0m\u001b[1;33m\u001b[0m\u001b[1;33m\u001b[0m\u001b[0m\n\u001b[0m\u001b[0;32m     11\u001b[0m     \u001b[1;32mfor\u001b[0m \u001b[0mjsonpath\u001b[0m \u001b[1;32min\u001b[0m \u001b[0mpaths\u001b[0m\u001b[1;33m:\u001b[0m\u001b[1;33m\u001b[0m\u001b[1;33m\u001b[0m\u001b[0m\n\u001b[0;32m     12\u001b[0m         \u001b[0mjsonpath\u001b[0m \u001b[1;33m=\u001b[0m \u001b[0mos\u001b[0m\u001b[1;33m.\u001b[0m\u001b[0mpath\u001b[0m\u001b[1;33m.\u001b[0m\u001b[0mjoin\u001b[0m\u001b[1;33m(\u001b[0m\u001b[0mjsondir\u001b[0m\u001b[1;33m,\u001b[0m \u001b[0mjsonpath\u001b[0m\u001b[1;33m)\u001b[0m\u001b[1;33m\u001b[0m\u001b[1;33m\u001b[0m\u001b[0m\n",
      "\u001b[1;31mFileNotFoundError\u001b[0m: [WinError 3] 系统找不到指定的路径。: 'D:\\\\sa_copy\\\\exps\\\\2022.9.30_yolox_1080p_sa_f27\\\\Element_grabbing\\\\grabbing_evaluation\\\\0007_wpsExcel_2019\\\\grabbing_evaluation_statistics\\\\statistic_mode_2\\\\detect\\\\button_miss'"
     ]
    }
   ],
   "source": [
    "# from importlib.resources import path\n",
    "from loguru import logger\n",
    "all_app_count =0 \n",
    "all_tiny_count=0\n",
    "\n",
    "for app in app_names:\n",
    "    miss_icon_list = []\n",
    "    miss_text_list = []\n",
    "    jsondir = os.path.join(curdir, app, stat_link)\n",
    "    paths = os.listdir(jsondir)\n",
    "    for jsonpath in paths:\n",
    "        jsonpath = os.path.join(jsondir, jsonpath)\n",
    "        with open(jsonpath, 'r', encoding='utf-8') as f:\n",
    "            miss_json=json.load(f)\n",
    "            il = miss_json['icon']\n",
    "            tl = miss_json['text']\n",
    "            if(len(il) > 0):\n",
    "                miss_icon_list += miss_json['icon']#列表合并\n",
    "            if(len(tl) > 0):\n",
    "                miss_text_list += miss_json['text']#列表合并\n",
    "    # list1=[] #总的统计\n",
    "    all_count_icon, tiny_count_icon = stat_tiny(miss_icon_list, app ,\"icon\")\n",
    "    all_count_text, tiny_count_text = stat_tiny(miss_text_list, app, \"text\")\n",
    "\n",
    "    all_app_count += all_count_icon + all_count_text \n",
    "    all_tiny_count += tiny_count_icon + tiny_count_text\n",
    "        # list1.append(wh)\n",
    "        # list1.append({'icon',[w, h]})\n",
    "logger.info(\"当前 {:4}个应用，miss_button:{:6}, miss 10x10:{}\".format(len(app_names), all_app_count, all_tiny_count))"
   ]
  },
  {
   "cell_type": "code",
   "execution_count": 10,
   "metadata": {},
   "outputs": [
    {
     "data": {
      "text/plain": [
       "[6, 12]"
      ]
     },
     "execution_count": 10,
     "metadata": {},
     "output_type": "execute_result"
    }
   ],
   "source": [
    "list1#1个app\n",
    "list1[0]"
   ]
  }
 ],
 "metadata": {
  "kernelspec": {
   "display_name": "Python 3.8.8 ('base')",
   "language": "python",
   "name": "python3"
  },
  "language_info": {
   "codemirror_mode": {
    "name": "ipython",
    "version": 3
   },
   "file_extension": ".py",
   "mimetype": "text/x-python",
   "name": "python",
   "nbconvert_exporter": "python",
   "pygments_lexer": "ipython3",
   "version": "3.8.8"
  },
  "orig_nbformat": 4,
  "vscode": {
   "interpreter": {
    "hash": "ff4f85d6e04298634172ac5d8264e7e9b556b95639fe52ebb9425c4d4cba0c9c"
   }
  }
 },
 "nbformat": 4,
 "nbformat_minor": 2
}
