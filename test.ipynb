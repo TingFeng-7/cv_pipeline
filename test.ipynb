{
 "cells": [
  {
   "cell_type": "code",
   "execution_count": 3,
   "metadata": {},
   "outputs": [
    {
     "name": "stdout",
     "output_type": "stream",
     "text": [
      "9\n",
      "8\n",
      "7\n",
      "6\n",
      "5\n",
      "4\n",
      "3\n",
      "2\n",
      "1\n"
     ]
    }
   ],
   "source": [
    "a=[]\n",
    "for column in range(10 - 1, 0, -1):\n",
    "    print(column)\n",
    "    a.append(column)"
   ]
  },
  {
   "cell_type": "code",
   "execution_count": 8,
   "metadata": {},
   "outputs": [
    {
     "data": {
      "text/plain": [
       "4"
      ]
     },
     "execution_count": 8,
     "metadata": {},
     "output_type": "execute_result"
    }
   ],
   "source": [
    "a.pop(-1)"
   ]
  },
  {
   "cell_type": "code",
   "execution_count": 14,
   "metadata": {},
   "outputs": [
    {
     "name": "stdout",
     "output_type": "stream",
     "text": [
      "[1, 2, 3, 4]\n",
      "[4, 3, 2, 1]\n",
      "[3, 4]\n",
      "[3, 4, 2, 1]\n"
     ]
    }
   ],
   "source": [
    "a = [4,2,3,1]\n",
    "# print(a[:2].sort())\n",
    "def sortbi(a, k):\n",
    "    a.sort()\n",
    "    print(a)\n",
    "    a.sort(reverse=True)\n",
    "    print(a)\n",
    "    tmp = a[0:2]\n",
    "    tmp.sort()\n",
    "    print(tmp)\n",
    "    a[0:2]=tmp\n",
    "    print(a)\n",
    "\n",
    "sortbi(a)"
   ]
  },
  {
   "cell_type": "code",
   "execution_count": 15,
   "metadata": {},
   "outputs": [
    {
     "data": {
      "text/plain": [
       "1000"
      ]
     },
     "execution_count": 15,
     "metadata": {},
     "output_type": "execute_result"
    }
   ],
   "source": [
    "pow(10,3)"
   ]
  },
  {
   "cell_type": "code",
   "execution_count": 17,
   "metadata": {},
   "outputs": [
    {
     "name": "stdout",
     "output_type": "stream",
     "text": [
      "5\n"
     ]
    }
   ],
   "source": [
    "from collections import deque\n",
    "\n",
    "# 创建一个deque\n",
    "my_deque = deque([1, 2, 3, 4, 5])\n",
    "\n",
    "# 获取deque的长度\n",
    "length = len(my_deque)\n",
    "print(length)"
   ]
  },
  {
   "cell_type": "code",
   "execution_count": 18,
   "metadata": {},
   "outputs": [
    {
     "data": {
      "text/plain": [
       "3"
      ]
     },
     "execution_count": 18,
     "metadata": {},
     "output_type": "execute_result"
    }
   ],
   "source": [
    "my_deque.popleft()\n",
    "my_deque.pop()\n",
    "len(my_deque)"
   ]
  },
  {
   "cell_type": "code",
   "execution_count": 34,
   "metadata": {},
   "outputs": [],
   "source": [
    "def gen_trf(a):\n",
    "    '''\n",
    "    Calculate the theoretical receptive field from P2-p7 of a standard ResNet-50-FPN.\n",
    "    # ref: https://distill.pub/2019/computing-receptive-fields/\n",
    "    '''\n",
    "\n",
    "    j_i = [1]\n",
    "    for i in range(7):\n",
    "        j = j_i[i]*2\n",
    "        j_i.append(j)\n",
    "\n",
    "    r0 = 1\n",
    "    r1 = r0 + (7-1)*j_i[0]\n",
    "    \n",
    "    r2 = r1 + (3-1)*j_i[1]\n",
    "    trf_p2 = r2 + (3-1)*j_i[2]*3\n",
    "\n",
    "    r3 = trf_p2 + (3-1)*j_i[2]\n",
    "    trf_p3 = r3 + (3-1)*j_i[3]*3\n",
    "\n",
    "    r4 = trf_p3 + (3-1)*j_i[3]\n",
    "    trf_p4 = r4 + (3-1)*j_i[4]*5\n",
    "\n",
    "    r5 = trf_p4 + (3-1)*j_i[4]\n",
    "    trf_p5 = r5 + (3-1)*j_i[5]*2\n",
    "\n",
    "    trf_p6 = trf_p5 + (3-1)*j_i[6]\n",
    "\n",
    "    trf_p7 = trf_p6 + (3-1)*j_i[7]\n",
    "    r_fs=[r0,r1,r2,r3,r4,r5]\n",
    "    print(r_fs)\n",
    "    trfs = [trf_p2, trf_p3, trf_p4, trf_p5, trf_p6, trf_p7]\n",
    "\n",
    "    return trfs,j_i"
   ]
  },
  {
   "cell_type": "code",
   "execution_count": 35,
   "metadata": {},
   "outputs": [
    {
     "name": "stdout",
     "output_type": "stream",
     "text": [
      "[1, 7, 11, 43, 107, 299]\n"
     ]
    },
    {
     "data": {
      "text/plain": [
       "[35, 91, 267, 427, 555, 811]"
      ]
     },
     "execution_count": 35,
     "metadata": {},
     "output_type": "execute_result"
    }
   ],
   "source": [
    "l,sride=gen_trf(1)\n",
    "l"
   ]
  },
  {
   "cell_type": "code",
   "execution_count": 17,
   "metadata": {},
   "outputs": [
    {
     "data": {
      "text/plain": [
       "[10, 9, 8, 7, 6, 5, 4, 3, 2, 1]"
      ]
     },
     "execution_count": 17,
     "metadata": {},
     "output_type": "execute_result"
    }
   ],
   "source": [
    "[i for i in range(10,0,-1)]"
   ]
  },
  {
   "cell_type": "code",
   "execution_count": 3,
   "metadata": {},
   "outputs": [
    {
     "name": "stderr",
     "output_type": "stream",
     "text": [
      "/opt/conda/lib/python3.7/site-packages/tqdm/auto.py:22: TqdmWarning: IProgress not found. Please update jupyter and ipywidgets. See https://ipywidgets.readthedocs.io/en/stable/user_install.html\n",
      "  from .autonotebook import tqdm as notebook_tqdm\n"
     ]
    }
   ],
   "source": [
    "import torch\n",
    "flatten_cls_preds = [torch.randn(4,num,10) for num in [200,400,600]]"
   ]
  },
  {
   "cell_type": "code",
   "execution_count": null,
   "metadata": {},
   "outputs": [],
   "source": [
    "flatten_cls_preds1 = torch.cat(flatten_cls_preds, dim=1)\n",
    "flatten_cls_preds2 = torch.cat(flatten_cls_preds, dim=1)"
   ]
  },
  {
   "cell_type": "code",
   "execution_count": 20,
   "metadata": {},
   "outputs": [],
   "source": [
    "def _get_points_single(\n",
    "                        featmap_size,\n",
    "                        stride,\n",
    "                        dtype,\n",
    "                        device,\n",
    "                        flatten=False):\n",
    "    \"\"\"Get points of a single scale level.\"\"\"\n",
    "    h, w = featmap_size\n",
    "    # First create Range with the default dtype, than convert to\n",
    "    # target `dtype` for onnx exporting.\n",
    "    x_range = torch.arange(w, device=device).to(dtype)\n",
    "    y_range = torch.arange(h, device=device).to(dtype)\n",
    "    y, x = torch.meshgrid(y_range, x_range)\n",
    "    if flatten:\n",
    "        y = y.flatten()\n",
    "        x = x.flatten()\n",
    "    return y, x\n",
    "\n",
    "def get_points(featmap_sizes,strides, dtype, device, flatten=False):\n",
    "    \"\"\"Get points according to feature map sizes.\n",
    "\n",
    "    Args:\n",
    "        featmap_sizes (list[tuple]): Multi-level feature map sizes.\n",
    "        dtype (torch.dtype): Type of points.\n",
    "        device (torch.device): Device of points.\n",
    "\n",
    "    Returns:\n",
    "        tuple: points of each image.\n",
    "    \"\"\"\n",
    "    mlvl_points = []\n",
    "    for i in range(len(featmap_sizes)):\n",
    "        mlvl_points.append(\n",
    "            _get_points_single(featmap_sizes[i], strides[i],\n",
    "                                    dtype, device, flatten))\n",
    "    return mlvl_points"
   ]
  },
  {
   "cell_type": "code",
   "execution_count": 32,
   "metadata": {},
   "outputs": [],
   "source": [
    "import torch\n",
    "featmap=[[5*i]*2 for i in [1,2,3]]\n",
    "l=get_points(featmap, [8,16,32],torch.half,torch.device('cpu'))"
   ]
  },
  {
   "cell_type": "code",
   "execution_count": 33,
   "metadata": {},
   "outputs": [
    {
     "data": {
      "text/plain": [
       "tensor([[ 0.,  0.,  0.,  0.,  0.,  0.,  0.,  0.,  0.,  0.,  0.,  0.,  0.,  0.,\n",
       "          0.],\n",
       "        [ 1.,  1.,  1.,  1.,  1.,  1.,  1.,  1.,  1.,  1.,  1.,  1.,  1.,  1.,\n",
       "          1.],\n",
       "        [ 2.,  2.,  2.,  2.,  2.,  2.,  2.,  2.,  2.,  2.,  2.,  2.,  2.,  2.,\n",
       "          2.],\n",
       "        [ 3.,  3.,  3.,  3.,  3.,  3.,  3.,  3.,  3.,  3.,  3.,  3.,  3.,  3.,\n",
       "          3.],\n",
       "        [ 4.,  4.,  4.,  4.,  4.,  4.,  4.,  4.,  4.,  4.,  4.,  4.,  4.,  4.,\n",
       "          4.],\n",
       "        [ 5.,  5.,  5.,  5.,  5.,  5.,  5.,  5.,  5.,  5.,  5.,  5.,  5.,  5.,\n",
       "          5.],\n",
       "        [ 6.,  6.,  6.,  6.,  6.,  6.,  6.,  6.,  6.,  6.,  6.,  6.,  6.,  6.,\n",
       "          6.],\n",
       "        [ 7.,  7.,  7.,  7.,  7.,  7.,  7.,  7.,  7.,  7.,  7.,  7.,  7.,  7.,\n",
       "          7.],\n",
       "        [ 8.,  8.,  8.,  8.,  8.,  8.,  8.,  8.,  8.,  8.,  8.,  8.,  8.,  8.,\n",
       "          8.],\n",
       "        [ 9.,  9.,  9.,  9.,  9.,  9.,  9.,  9.,  9.,  9.,  9.,  9.,  9.,  9.,\n",
       "          9.],\n",
       "        [10., 10., 10., 10., 10., 10., 10., 10., 10., 10., 10., 10., 10., 10.,\n",
       "         10.],\n",
       "        [11., 11., 11., 11., 11., 11., 11., 11., 11., 11., 11., 11., 11., 11.,\n",
       "         11.],\n",
       "        [12., 12., 12., 12., 12., 12., 12., 12., 12., 12., 12., 12., 12., 12.,\n",
       "         12.],\n",
       "        [13., 13., 13., 13., 13., 13., 13., 13., 13., 13., 13., 13., 13., 13.,\n",
       "         13.],\n",
       "        [14., 14., 14., 14., 14., 14., 14., 14., 14., 14., 14., 14., 14., 14.,\n",
       "         14.]], dtype=torch.float16)"
      ]
     },
     "execution_count": 33,
     "metadata": {},
     "output_type": "execute_result"
    }
   ],
   "source": [
    "l[0][0]\n",
    "l[1][0]\n",
    "l[2][0]"
   ]
  }
 ],
 "metadata": {
  "kernelspec": {
   "display_name": "base",
   "language": "python",
   "name": "python3"
  },
  "language_info": {
   "codemirror_mode": {
    "name": "ipython",
    "version": 3
   },
   "file_extension": ".py",
   "mimetype": "text/x-python",
   "name": "python",
   "nbconvert_exporter": "python",
   "pygments_lexer": "ipython3",
   "version": "3.9.16"
  },
  "orig_nbformat": 4
 },
 "nbformat": 4,
 "nbformat_minor": 2
}
