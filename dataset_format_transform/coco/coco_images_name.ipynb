{
 "cells": [
  {
   "cell_type": "code",
   "execution_count": 5,
   "metadata": {},
   "outputs": [],
   "source": [
    "import json\n",
    "import os.path as osp\n",
    "import sys\n",
    "sys.path.append(r'E:\\A01_cyclone\\02_github\\py_script')\n",
    "from  utils.utils1 import *\n",
    "\n",
    "data_dir =r'E:\\visDrone20191\\visDrone2019_coco'\n",
    "from tqdm import tqdm\n",
    "type = 'val'\n",
    "coco_json = osp.join(data_dir, 'VisDrone2019-DET_train_coco.json')\n",
    "coco_json = osp.join(data_dir, f'VisDrone2019-DET_{type}_coco.json')\n",
    "\n",
    "ins = read_json_instance(coco_json)\n",
    "\n",
    "l = ins['images']"
   ]
  },
  {
   "cell_type": "code",
   "execution_count": 6,
   "metadata": {},
   "outputs": [
    {
     "name": "stderr",
     "output_type": "stream",
     "text": [
      "100%|██████████| 548/548 [00:00<?, ?it/s]\n"
     ]
    }
   ],
   "source": [
    "# image_list = []\n",
    "for aa in tqdm(l):\n",
    "    # print(aa)\n",
    "    aa['file_name'] = f'./images/{type}/' + aa[\"file_name\"]\n",
    "    # print(aa)\n",
    "    # image_list.append()\n",
    "save_json_instance( osp.join(data_dir, f'{type}.json'), ins)"
   ]
  },
  {
   "cell_type": "code",
   "execution_count": 9,
   "metadata": {},
   "outputs": [],
   "source": [
    "categories = [\n",
    "    {\"id\": 0, \"name\": \"ignored regions\"},\n",
    "    {\"id\": 1, \"name\": \"pedestrian\"},\n",
    "    {\"id\": 2, \"name\": \"people\"},\n",
    "    {\"id\": 3, \"name\": \"bicycle\"},\n",
    "    {\"id\": 4, \"name\": \"car\"},\n",
    "    {\"id\": 5, \"name\": \"van\"},\n",
    "    {\"id\": 6, \"name\": \"truck\"},\n",
    "    {\"id\": 7, \"name\": \"tricycle\"},\n",
    "    {\"id\": 8, \"name\": \"awning-tricycle\"},\n",
    "    {\"id\": 9, \"name\": \"bus\"},\n",
    "    {\"id\": 10, \"name\": \"motor\"},\n",
    "    {\"id\": 11, \"name\": \"others\"}\n",
    "]"
   ]
  },
  {
   "cell_type": "code",
   "execution_count": 12,
   "metadata": {},
   "outputs": [
    {
     "name": "stdout",
     "output_type": "stream",
     "text": [
      "['pedestrian', 'people', 'bicycle', 'car', 'van', 'truck', 'tricycle', 'awning-tricycle', 'bus', 'motor']\n"
     ]
    }
   ],
   "source": [
    "class_name=[]\n",
    "for x in categories:\n",
    "    if x['name'] not in ['others','ignored regions']:\n",
    "        class_name.append(x['name'])\n",
    "categories_new = [ {'id':k, 'name':v} for k,v in enumerate(class_name)]\n",
    "print(class_name)"
   ]
  },
  {
   "cell_type": "code",
   "execution_count": 26,
   "metadata": {},
   "outputs": [
    {
     "ename": "",
     "evalue": "",
     "output_type": "error",
     "traceback": [
      "\u001b[1;31mThe Kernel crashed while executing code in the the current cell or a previous cell. Please review the code in the cell(s) to identify a possible cause of the failure. Click <a href='https://aka.ms/vscodeJupyterKernelCrash'>here</a> for more info. View Jupyter <a href='command:jupyter.viewOutput'>log</a> for further details."
     ]
    }
   ],
   "source": [
    "class_name=[]\n",
    "for x in categories:\n",
    "    if x['name'] not in ['others','ignored regions']:\n",
    "        class_name.append(x['name'])\n",
    "categories_new = [ {'id':k, 'name':v} for k,v in enumerate(class_name)]"
   ]
  }
 ],
 "metadata": {
  "kernelspec": {
   "display_name": "base",
   "language": "python",
   "name": "python3"
  },
  "language_info": {
   "codemirror_mode": {
    "name": "ipython",
    "version": 3
   },
   "file_extension": ".py",
   "mimetype": "text/x-python",
   "name": "python",
   "nbconvert_exporter": "python",
   "pygments_lexer": "ipython3",
   "version": "3.8.8"
  },
  "orig_nbformat": 4,
  "vscode": {
   "interpreter": {
    "hash": "55956c200ce8558877051cc515a89c5095ef9d2360d0dabbe94a6954755eb4ed"
   }
  }
 },
 "nbformat": 4,
 "nbformat_minor": 2
}
