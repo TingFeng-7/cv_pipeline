{
 "cells": [
  {
   "cell_type": "code",
   "execution_count": 49,
   "metadata": {},
   "outputs": [],
   "source": [
    "# -*- coding: UTF-8 -*-\n",
    "import json\n",
    "import os\n",
    "from os.path import join as pathj\n",
    "import datetime\n",
    "from PIL import Image\n",
    "import cv2\n",
    "\n",
    "def ensure_dir(folder):\n",
    "    if not os.path.exists(folder):\n",
    "        os.makedirs(folder)\n",
    "    return folder\n",
    "\n",
    "def line2str(l):\n",
    "    str1=''\n",
    "    for ele in l[0:-1]:\n",
    "        str1 = str1 + str(ele)+' '\n",
    "    return str1 + str(l[-1])\n",
    "\n",
    "def gen_class2id(classes):\n",
    "    cls2id = {}\n",
    "    for k,v in enumerate(classes):\n",
    "        cls2id[v] = k\n",
    "    return cls2id\n",
    "\n",
    "def xyxy2xywh(box):\n",
    "    x1 = min(box[0], box[2])\n",
    "    y1 = min(box[1], box[3])\n",
    "    w = abs(box[2]-box[0])\n",
    "    h = abs(box[3]-box[1])\n",
    "    return [x1, y1, w, h, w*h]\n",
    "\n",
    "def gen_empty_cocojson_instance():\n",
    "    # 创建 总标签data \n",
    "    now = datetime.datetime.now()\n",
    "    instance = dict(\n",
    "        info=dict(\n",
    "            description=None,\n",
    "            url=None,\n",
    "            version=None,\n",
    "            year=now.year,\n",
    "            contributor=None,\n",
    "            date_created=now.strftime(\"%Y-%m-%d %H:%M:%S.%f\"),\n",
    "        ),\n",
    "        licenses=[dict(url=None, id=0, name=None,)],\n",
    "        images=[\n",
    "            # license, url, file_name, height, width, date_captured, id\n",
    "        ],\n",
    "        type=\"instances\",\n",
    "        annotations=[\n",
    "            # segmentation, area, iscrowd, image_id, bbox, category_id, id\n",
    "        ],\n",
    "        categories=[\n",
    "            # supercategory, id, name\n",
    "        ],\n",
    "    )\n",
    "\n",
    "    return instance\n",
    "\n",
    "def gen_one_data_dict(img_name, h, w, id):\n",
    "    data = {\n",
    "        'file_name': os.path.basename(img_name),\n",
    "        'height': h,\n",
    "        'width': w,\n",
    "        'id': id        \n",
    "    }\n",
    "    return data\n",
    "\n",
    "def gen_one_anno_dict(cat_id, img_id, bbox: list, area, anno_id):\n",
    "    anno = {\n",
    "        'segmentation':[],\n",
    "        'area': area, #直接取绝对值\n",
    "        'iscrowd': 0,\n",
    "        'image_id': img_id,\n",
    "        'bbox': bbox,\n",
    "        'category_id': cat_id,   \n",
    "        'id': anno_id\n",
    "\n",
    "    }\n",
    "    return anno\n",
    "    \n",
    "def gen_category_dict(class_name):\n",
    "    ins = []\n",
    "    for k,v in enumerate(class_name):\n",
    "        one_cate = {'id':k, 'name':v,'supercategory':v}\n",
    "        ins.append(one_cate) \n",
    "    return ins\n",
    "\n",
    "def read_txt(abs_txt_name):\n",
    "    with open(abs_txt_name,'r', encoding='utf-8') as f:\n",
    "        for line in f.readlines():\n",
    "                line = line.replace(')','').replace('(','')\n",
    "                row = line.strip().split(',')\n",
    "                print(row)\n",
    "# 读取json\n",
    "def read_json(abs_txt_name):\n",
    "    with open(abs_txt_name, 'r', encoding='utf-8') as f: #读文件名\n",
    "        ret_dic = json.load(f)\n",
    "        return ret_dic\n",
    "        \n",
    "def save_json(new_name,json_ins):\n",
    "    with open(new_name, 'w',encoding='utf-8') as f:\n",
    "        json.dump(json_ins ,f ,indent=2,ensure_ascii=False)#zw\n",
    "        print('{} saved'.format(new_name)) "
   ]
  },
  {
   "cell_type": "code",
   "execution_count": 50,
   "metadata": {},
   "outputs": [],
   "source": [
    "import numpy as np\n",
    "\n",
    "root_dir = r'D:\\sa_other\\NWPU VHR-10 dataset\\imgs'\n",
    "file_names = []\n",
    "for name in os.listdir(root_dir):\n",
    "    file_names.append(name.split('.')[0])\n",
    "file_names = np.array(file_names)\n",
    "np.random.seed(777)\n",
    "np.random.shuffle(file_names)\n",
    "t_name = file_names[:585].tolist()\n",
    "v_name = file_names[585:].tolist()\n",
    "#打乱"
   ]
  },
  {
   "cell_type": "code",
   "execution_count": 54,
   "metadata": {},
   "outputs": [],
   "source": [
    "coco_ins = gen_empty_cocojson_instance()\n",
    "# print(coco_ins['images'])\n",
    "# print(coco_ins['annotations'])\n",
    "\n",
    "class_name = ['飞机', '舰船', '油罐', '棒球场','网球场','篮球场','田径场','港口','桥梁','汽车']\n",
    "class_name_en = ['airplane', 'ships','oil tank', 'ball park', 'tennis court', 'basketball', 'track', 'port', 'bridge', 'car']\n",
    "cate_ins = gen_category_dict(class_name_en)\n",
    "coco_ins['categories'] = cate_ins\n",
    "import copy\n",
    "val_coco_ins = copy.deepcopy(coco_ins)\n",
    "# print(coco_ins['categories'])\n",
    "# os.path.basename('sdsd\\sdsds\\asdasd\\l.ll')\n"
   ]
  },
  {
   "cell_type": "code",
   "execution_count": 55,
   "metadata": {},
   "outputs": [
    {
     "name": "stdout",
     "output_type": "stream",
     "text": [
      "total transform: 425\n",
      "min:1, max:31\n"
     ]
    }
   ],
   "source": [
    "#--- folder path：data目录\n",
    "root_dir = r'D:\\sa_other\\NWPU VHR-10 dataset\\gtwithimg'\n",
    "# D:\\sa_data\\other\\NWPU VHR-10 dataset\\gtwithimg\n",
    "# save_dir = r'D:\\sa_other\\NWPU VHR-10 dataset\\coco json'#保存路径 images,labels\n",
    "img = 'images'\n",
    "label ='annotations'\n",
    "img_part = coco_ins[img]\n",
    "anno_part = coco_ins[label]\n",
    "\n",
    "name_id = 0\n",
    "anno_id = 0\n",
    "anno_count =0\n",
    "max_det= 0\n",
    "min_det =10\n",
    "\n",
    "for name in [x for x in os.listdir(root_dir) if x.endswith('txt')]:\n",
    "    # if name.split('.')[0] not in v_name: # if name in trainning set\n",
    "    #     continue\n",
    "    if name.split('.')[0] not in v_name: # if name in trainning set\n",
    "        continue\n",
    "    file_path = os.path.join(root_dir,name)\n",
    "    img_name = file_path[:-4]+'.jpg'\n",
    "    txt =[]\n",
    "    img = cv2.imread(img_name, flags=cv2.IMREAD_COLOR)\n",
    "    # img = Image.open(img_name)#txt怎么取名的这个问题\n",
    "    name_id += 1\n",
    "    data_ins = gen_one_data_dict(img_name, img.shape[0], img.shape[1], name_id)\n",
    "    img_part.append(data_ins) #宽高、名字\n",
    "    #读取txt文件\n",
    "    with open(file_path,'r',encoding='utf-8') as f:\n",
    "        per_img_obj_num = 0\n",
    "        for line in f.readlines():\n",
    "            if  line =='':\n",
    "                continue\n",
    "            else:\n",
    "                line = line.replace(')','').replace('(','').replace(' ','')\n",
    "                row = line.strip().split(',')\n",
    "                if (len(row)< 5):\n",
    "                    continue\n",
    "                else:\n",
    "                    per_img_obj_num +=1\n",
    "                    anno_count+=1\n",
    "                    x1 = float(row[0])\n",
    "                    y1 = float(row[1])\n",
    "                    x2 = float(row[2])\n",
    "                    y2 = float(row[3])\n",
    "                    box =xyxy2xywh([x1,y1,x2,y2])#左下右上 coco 是[x y w h]\n",
    "                    cls_id = int(row[-1])-1 # 最后一行纯数字 id从1开始\n",
    "                    anno_id+=1\n",
    "                    anno_ins = gen_one_anno_dict(cls_id, name_id, box[:4], box[4], anno_id)\n",
    "                    anno_part.append(anno_ins) #宽高、名字\n",
    "            max_det = max(per_img_obj_num, max_det)\n",
    "            min_det = min(per_img_obj_num, min_det)\n",
    "    # print(f'{name_id}图片共有 anno:{anno_count}')\n",
    "    # abs_save_name = pathj(save_dir,save_name)\n",
    "\n",
    "print('total transform: %s'% (anno_id))\n",
    "print(f'min:{min_det}, max:{max_det}')"
   ]
  },
  {
   "cell_type": "code",
   "execution_count": 56,
   "metadata": {},
   "outputs": [
    {
     "name": "stdout",
     "output_type": "stream",
     "text": [
      "D:\\sa_other\\nv10-coco\\annotations\\val_en.json saved\n"
     ]
    }
   ],
   "source": [
    "\n",
    "save_dir = r'D:\\sa_other\\nv10-coco\\annotations'\n",
    "save_json(pathj(save_dir, \"val_en.json\"), coco_ins)"
   ]
  },
  {
   "cell_type": "code",
   "execution_count": 53,
   "metadata": {},
   "outputs": [
    {
     "name": "stdout",
     "output_type": "stream",
     "text": [
      "D:\\sa_other\\nv10-coco\\annotations\\train_en.json saved\n"
     ]
    }
   ],
   "source": [
    "save_dir = r'D:\\sa_other\\nv10-coco\\annotations'\n",
    "save_json(pathj(save_dir, \"train_en.json\"), coco_ins)"
   ]
  },
  {
   "cell_type": "code",
   "execution_count": 39,
   "metadata": {},
   "outputs": [
    {
     "name": "stdout",
     "output_type": "stream",
     "text": [
      "names:\n",
      "  0: airplane\n",
      "  1: ships\n",
      "  2: oil tank\n",
      "  3: ball park\n",
      "  4: tennis court\n",
      "  5: basketball\n",
      "  6: track\n",
      "  7: port\n",
      "  8: bridge\n",
      "  9: car\n",
      "\n"
     ]
    }
   ],
   "source": [
    "import yaml\n",
    "\n",
    "c = {'names':{}}\n",
    "for k,v in enumerate(class_name_en):\n",
    "    c['names'][k] = v\n",
    "print(yaml.dump(c, allow_unicode=True))\n",
    "with open('b1.yaml', 'w') as file:\n",
    "    file.write(yaml.dump(c, allow_unicode=True))"
   ]
  }
 ],
 "metadata": {
  "kernelspec": {
   "display_name": "Python 3.8.8 ('base')",
   "language": "python",
   "name": "python3"
  },
  "language_info": {
   "codemirror_mode": {
    "name": "ipython",
    "version": 3
   },
   "file_extension": ".py",
   "mimetype": "text/x-python",
   "name": "python",
   "nbconvert_exporter": "python",
   "pygments_lexer": "ipython3",
   "version": "3.8.8 (default, Apr 13 2021, 15:08:03) [MSC v.1916 64 bit (AMD64)]"
  },
  "orig_nbformat": 4,
  "vscode": {
   "interpreter": {
    "hash": "ff4f85d6e04298634172ac5d8264e7e9b556b95639fe52ebb9425c4d4cba0c9c"
   }
  }
 },
 "nbformat": 4,
 "nbformat_minor": 2
}
